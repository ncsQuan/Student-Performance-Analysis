{
  "nbformat": 4,
  "nbformat_minor": 0,
  "metadata": {
    "colab": {
      "provenance": []
    },
    "kernelspec": {
      "name": "python3",
      "display_name": "Python 3"
    },
    "language_info": {
      "name": "python"
    }
  },
  "cells": [
    {
      "cell_type": "markdown",
      "source": [
        "# **Importing the Necessary Packages and Configuring Settings**"
      ],
      "metadata": {
        "id": "H3DZxvb07R7B"
      }
    },
    {
      "cell_type": "code",
      "source": [
        "import os\n",
        "import matplotlib.pyplot as plt\n",
        "import seaborn as sns\n",
        "sns.set_style('whitegrid')\n",
        "import numpy as np\n",
        "import pandas as pd\n",
        "!pip install aif360\n",
        "from aif360.datasets import StandardDataset\n",
        "from aif360.metrics import BinaryLabelDatasetMetric\n",
        "from aif360.algorithms.preprocessing import Reweighing\n",
        "from sklearn.model_selection import train_test_split"
      ],
      "metadata": {
        "id": "MP9_1qPZGC2f",
        "colab": {
          "base_uri": "https://localhost:8080/"
        },
        "outputId": "b991a145-d6fb-48d8-9695-48abab991d1e"
      },
      "execution_count": null,
      "outputs": [
        {
          "output_type": "stream",
          "name": "stdout",
          "text": [
            "Collecting aif360\n",
            "  Downloading aif360-0.5.0-py3-none-any.whl (214 kB)\n",
            "\u001b[?25l     \u001b[90m━━━━━━━━━━━━━━━━━━━━━━━━━━━━━━━━━━━━━━━━\u001b[0m \u001b[32m0.0/214.1 kB\u001b[0m \u001b[31m?\u001b[0m eta \u001b[36m-:--:--\u001b[0m\r\u001b[2K     \u001b[91m━━━━━━━━━━━━━━━━━\u001b[0m\u001b[90m╺\u001b[0m\u001b[90m━━━━━━━━━━━━━━━━━━━━━━\u001b[0m \u001b[32m92.2/214.1 kB\u001b[0m \u001b[31m2.8 MB/s\u001b[0m eta \u001b[36m0:00:01\u001b[0m\r\u001b[2K     \u001b[90m━━━━━━━━━━━━━━━━━━━━━━━━━━━━━━━━━━━━━━━━\u001b[0m \u001b[32m214.1/214.1 kB\u001b[0m \u001b[31m3.9 MB/s\u001b[0m eta \u001b[36m0:00:00\u001b[0m\n",
            "\u001b[?25hRequirement already satisfied: numpy>=1.16 in /usr/local/lib/python3.10/dist-packages (from aif360) (1.23.5)\n",
            "Requirement already satisfied: scipy>=1.2.0 in /usr/local/lib/python3.10/dist-packages (from aif360) (1.11.3)\n",
            "Requirement already satisfied: pandas>=0.24.0 in /usr/local/lib/python3.10/dist-packages (from aif360) (1.5.3)\n",
            "Requirement already satisfied: scikit-learn>=1.0 in /usr/local/lib/python3.10/dist-packages (from aif360) (1.2.2)\n",
            "Requirement already satisfied: matplotlib in /usr/local/lib/python3.10/dist-packages (from aif360) (3.7.1)\n",
            "Requirement already satisfied: python-dateutil>=2.8.1 in /usr/local/lib/python3.10/dist-packages (from pandas>=0.24.0->aif360) (2.8.2)\n",
            "Requirement already satisfied: pytz>=2020.1 in /usr/local/lib/python3.10/dist-packages (from pandas>=0.24.0->aif360) (2023.3.post1)\n",
            "Requirement already satisfied: joblib>=1.1.1 in /usr/local/lib/python3.10/dist-packages (from scikit-learn>=1.0->aif360) (1.3.2)\n",
            "Requirement already satisfied: threadpoolctl>=2.0.0 in /usr/local/lib/python3.10/dist-packages (from scikit-learn>=1.0->aif360) (3.2.0)\n",
            "Requirement already satisfied: contourpy>=1.0.1 in /usr/local/lib/python3.10/dist-packages (from matplotlib->aif360) (1.2.0)\n",
            "Requirement already satisfied: cycler>=0.10 in /usr/local/lib/python3.10/dist-packages (from matplotlib->aif360) (0.12.1)\n",
            "Requirement already satisfied: fonttools>=4.22.0 in /usr/local/lib/python3.10/dist-packages (from matplotlib->aif360) (4.44.0)\n",
            "Requirement already satisfied: kiwisolver>=1.0.1 in /usr/local/lib/python3.10/dist-packages (from matplotlib->aif360) (1.4.5)\n",
            "Requirement already satisfied: packaging>=20.0 in /usr/local/lib/python3.10/dist-packages (from matplotlib->aif360) (23.2)\n",
            "Requirement already satisfied: pillow>=6.2.0 in /usr/local/lib/python3.10/dist-packages (from matplotlib->aif360) (9.4.0)\n",
            "Requirement already satisfied: pyparsing>=2.3.1 in /usr/local/lib/python3.10/dist-packages (from matplotlib->aif360) (3.1.1)\n",
            "Requirement already satisfied: six>=1.5 in /usr/local/lib/python3.10/dist-packages (from python-dateutil>=2.8.1->pandas>=0.24.0->aif360) (1.16.0)\n",
            "Installing collected packages: aif360\n",
            "Successfully installed aif360-0.5.0\n"
          ]
        },
        {
          "output_type": "stream",
          "name": "stderr",
          "text": [
            "WARNING:root:No module named 'tempeh': LawSchoolGPADataset will be unavailable. To install, run:\n",
            "pip install 'aif360[LawSchoolGPA]'\n",
            "WARNING:root:No module named 'fairlearn': ExponentiatedGradientReduction will be unavailable. To install, run:\n",
            "pip install 'aif360[Reductions]'\n",
            "WARNING:root:No module named 'fairlearn': GridSearchReduction will be unavailable. To install, run:\n",
            "pip install 'aif360[Reductions]'\n",
            "WARNING:root:No module named 'fairlearn': GridSearchReduction will be unavailable. To install, run:\n",
            "pip install 'aif360[Reductions]'\n"
          ]
        }
      ]
    },
    {
      "cell_type": "code",
      "source": [
        "#Kaggle API key\n",
        "os.environ['KAGGLE_USERNAME'] = \"\"\n",
        "os.environ['KAGGLE_KEY'] = \"\"\n",
        "\n",
        "import kaggle"
      ],
      "metadata": {
        "id": "jMKdkRnGNWCb"
      },
      "execution_count": null,
      "outputs": []
    },
    {
      "cell_type": "code",
      "source": [
        "# Download Kaggle dataset (student-por.csv)\n",
        "kaggle.api.dataset_download_files(dataset='larsen0966/student-performance-data-set', unzip=True)"
      ],
      "metadata": {
        "id": "VIP0tDFpIhhe"
      },
      "execution_count": null,
      "outputs": []
    },
    {
      "cell_type": "code",
      "source": [
        "# Create a figures folder to hold images\n",
        "try:\n",
        "\tos.makedirs('figures', exist_ok = True)\n",
        "\tprint(\"Created successfully\")\n",
        "except OSError as error:\n",
        "\tprint(\"This folder can not be created\")"
      ],
      "metadata": {
        "colab": {
          "base_uri": "https://localhost:8080/"
        },
        "id": "wG5QO5Ol-VTa",
        "outputId": "4829925f-330f-4c1e-e8ff-afe8c95b5c4a"
      },
      "execution_count": null,
      "outputs": [
        {
          "output_type": "stream",
          "name": "stdout",
          "text": [
            "Created successfully\n"
          ]
        }
      ]
    },
    {
      "cell_type": "markdown",
      "source": [
        "\n",
        "# **Step 1:**"
      ],
      "metadata": {
        "id": "b-orfcMC0m-q"
      }
    },
    {
      "cell_type": "markdown",
      "source": [
        "### **1.1.   Selected Dataset**\n",
        "\n",
        "We chose the \"Student Performance Data Set\" (SPDS) dataset, which is publicly\n",
        "available through Kaggle’s dataset repository (Cortez, 2019). At a high level,\n",
        "the dataset’s features cumulatively reflect each subject’s demography and so-\n",
        "cial background. Each subject’s record within the dataset also contains variables conveying characteristics about their school and the grades they received in a Portuguese language class within certain periods. Of note, the dataset’s description on Kaggle shows that it was initially comprised of two sub-datasets - one about students in the Portuguese language class and another about students in a Math class. The following analysis only relates to the Portuguese language class portion of the dataset, as this was the only sub-dataset found on Kaggle."
      ],
      "metadata": {
        "id": "CdcaOm6TkzdD"
      }
    },
    {
      "cell_type": "code",
      "source": [
        "# Reading the SPDS dataset into dataframe & displaying several rows from the head/tail\n",
        "df = pd.read_csv('./student-por.csv')\n",
        "df"
      ],
      "metadata": {
        "colab": {
          "base_uri": "https://localhost:8080/",
          "height": 443
        },
        "id": "KgLe5OMS480z",
        "outputId": "a83d9994-3bf1-41b8-932b-f1c5f6f2df92"
      },
      "execution_count": null,
      "outputs": [
        {
          "output_type": "execute_result",
          "data": {
            "text/plain": [
              "    school sex  age address famsize Pstatus  Medu  Fedu      Mjob      Fjob  \\\n",
              "0       GP   F   18       U     GT3       A     4     4   at_home   teacher   \n",
              "1       GP   F   17       U     GT3       T     1     1   at_home     other   \n",
              "2       GP   F   15       U     LE3       T     1     1   at_home     other   \n",
              "3       GP   F   15       U     GT3       T     4     2    health  services   \n",
              "4       GP   F   16       U     GT3       T     3     3     other     other   \n",
              "..     ...  ..  ...     ...     ...     ...   ...   ...       ...       ...   \n",
              "644     MS   F   19       R     GT3       T     2     3  services     other   \n",
              "645     MS   F   18       U     LE3       T     3     1   teacher  services   \n",
              "646     MS   F   18       U     GT3       T     1     1     other     other   \n",
              "647     MS   M   17       U     LE3       T     3     1  services  services   \n",
              "648     MS   M   18       R     LE3       T     3     2  services     other   \n",
              "\n",
              "     ... famrel freetime  goout  Dalc  Walc health absences  G1  G2  G3  \n",
              "0    ...      4        3      4     1     1      3        4   0  11  11  \n",
              "1    ...      5        3      3     1     1      3        2   9  11  11  \n",
              "2    ...      4        3      2     2     3      3        6  12  13  12  \n",
              "3    ...      3        2      2     1     1      5        0  14  14  14  \n",
              "4    ...      4        3      2     1     2      5        0  11  13  13  \n",
              "..   ...    ...      ...    ...   ...   ...    ...      ...  ..  ..  ..  \n",
              "644  ...      5        4      2     1     2      5        4  10  11  10  \n",
              "645  ...      4        3      4     1     1      1        4  15  15  16  \n",
              "646  ...      1        1      1     1     1      5        6  11  12   9  \n",
              "647  ...      2        4      5     3     4      2        6  10  10  10  \n",
              "648  ...      4        4      1     3     4      5        4  10  11  11  \n",
              "\n",
              "[649 rows x 33 columns]"
            ],
            "text/html": [
              "\n",
              "  <div id=\"df-5c5703ba-0ab1-4823-a3d7-d494ad649ff6\" class=\"colab-df-container\">\n",
              "    <div>\n",
              "<style scoped>\n",
              "    .dataframe tbody tr th:only-of-type {\n",
              "        vertical-align: middle;\n",
              "    }\n",
              "\n",
              "    .dataframe tbody tr th {\n",
              "        vertical-align: top;\n",
              "    }\n",
              "\n",
              "    .dataframe thead th {\n",
              "        text-align: right;\n",
              "    }\n",
              "</style>\n",
              "<table border=\"1\" class=\"dataframe\">\n",
              "  <thead>\n",
              "    <tr style=\"text-align: right;\">\n",
              "      <th></th>\n",
              "      <th>school</th>\n",
              "      <th>sex</th>\n",
              "      <th>age</th>\n",
              "      <th>address</th>\n",
              "      <th>famsize</th>\n",
              "      <th>Pstatus</th>\n",
              "      <th>Medu</th>\n",
              "      <th>Fedu</th>\n",
              "      <th>Mjob</th>\n",
              "      <th>Fjob</th>\n",
              "      <th>...</th>\n",
              "      <th>famrel</th>\n",
              "      <th>freetime</th>\n",
              "      <th>goout</th>\n",
              "      <th>Dalc</th>\n",
              "      <th>Walc</th>\n",
              "      <th>health</th>\n",
              "      <th>absences</th>\n",
              "      <th>G1</th>\n",
              "      <th>G2</th>\n",
              "      <th>G3</th>\n",
              "    </tr>\n",
              "  </thead>\n",
              "  <tbody>\n",
              "    <tr>\n",
              "      <th>0</th>\n",
              "      <td>GP</td>\n",
              "      <td>F</td>\n",
              "      <td>18</td>\n",
              "      <td>U</td>\n",
              "      <td>GT3</td>\n",
              "      <td>A</td>\n",
              "      <td>4</td>\n",
              "      <td>4</td>\n",
              "      <td>at_home</td>\n",
              "      <td>teacher</td>\n",
              "      <td>...</td>\n",
              "      <td>4</td>\n",
              "      <td>3</td>\n",
              "      <td>4</td>\n",
              "      <td>1</td>\n",
              "      <td>1</td>\n",
              "      <td>3</td>\n",
              "      <td>4</td>\n",
              "      <td>0</td>\n",
              "      <td>11</td>\n",
              "      <td>11</td>\n",
              "    </tr>\n",
              "    <tr>\n",
              "      <th>1</th>\n",
              "      <td>GP</td>\n",
              "      <td>F</td>\n",
              "      <td>17</td>\n",
              "      <td>U</td>\n",
              "      <td>GT3</td>\n",
              "      <td>T</td>\n",
              "      <td>1</td>\n",
              "      <td>1</td>\n",
              "      <td>at_home</td>\n",
              "      <td>other</td>\n",
              "      <td>...</td>\n",
              "      <td>5</td>\n",
              "      <td>3</td>\n",
              "      <td>3</td>\n",
              "      <td>1</td>\n",
              "      <td>1</td>\n",
              "      <td>3</td>\n",
              "      <td>2</td>\n",
              "      <td>9</td>\n",
              "      <td>11</td>\n",
              "      <td>11</td>\n",
              "    </tr>\n",
              "    <tr>\n",
              "      <th>2</th>\n",
              "      <td>GP</td>\n",
              "      <td>F</td>\n",
              "      <td>15</td>\n",
              "      <td>U</td>\n",
              "      <td>LE3</td>\n",
              "      <td>T</td>\n",
              "      <td>1</td>\n",
              "      <td>1</td>\n",
              "      <td>at_home</td>\n",
              "      <td>other</td>\n",
              "      <td>...</td>\n",
              "      <td>4</td>\n",
              "      <td>3</td>\n",
              "      <td>2</td>\n",
              "      <td>2</td>\n",
              "      <td>3</td>\n",
              "      <td>3</td>\n",
              "      <td>6</td>\n",
              "      <td>12</td>\n",
              "      <td>13</td>\n",
              "      <td>12</td>\n",
              "    </tr>\n",
              "    <tr>\n",
              "      <th>3</th>\n",
              "      <td>GP</td>\n",
              "      <td>F</td>\n",
              "      <td>15</td>\n",
              "      <td>U</td>\n",
              "      <td>GT3</td>\n",
              "      <td>T</td>\n",
              "      <td>4</td>\n",
              "      <td>2</td>\n",
              "      <td>health</td>\n",
              "      <td>services</td>\n",
              "      <td>...</td>\n",
              "      <td>3</td>\n",
              "      <td>2</td>\n",
              "      <td>2</td>\n",
              "      <td>1</td>\n",
              "      <td>1</td>\n",
              "      <td>5</td>\n",
              "      <td>0</td>\n",
              "      <td>14</td>\n",
              "      <td>14</td>\n",
              "      <td>14</td>\n",
              "    </tr>\n",
              "    <tr>\n",
              "      <th>4</th>\n",
              "      <td>GP</td>\n",
              "      <td>F</td>\n",
              "      <td>16</td>\n",
              "      <td>U</td>\n",
              "      <td>GT3</td>\n",
              "      <td>T</td>\n",
              "      <td>3</td>\n",
              "      <td>3</td>\n",
              "      <td>other</td>\n",
              "      <td>other</td>\n",
              "      <td>...</td>\n",
              "      <td>4</td>\n",
              "      <td>3</td>\n",
              "      <td>2</td>\n",
              "      <td>1</td>\n",
              "      <td>2</td>\n",
              "      <td>5</td>\n",
              "      <td>0</td>\n",
              "      <td>11</td>\n",
              "      <td>13</td>\n",
              "      <td>13</td>\n",
              "    </tr>\n",
              "    <tr>\n",
              "      <th>...</th>\n",
              "      <td>...</td>\n",
              "      <td>...</td>\n",
              "      <td>...</td>\n",
              "      <td>...</td>\n",
              "      <td>...</td>\n",
              "      <td>...</td>\n",
              "      <td>...</td>\n",
              "      <td>...</td>\n",
              "      <td>...</td>\n",
              "      <td>...</td>\n",
              "      <td>...</td>\n",
              "      <td>...</td>\n",
              "      <td>...</td>\n",
              "      <td>...</td>\n",
              "      <td>...</td>\n",
              "      <td>...</td>\n",
              "      <td>...</td>\n",
              "      <td>...</td>\n",
              "      <td>...</td>\n",
              "      <td>...</td>\n",
              "      <td>...</td>\n",
              "    </tr>\n",
              "    <tr>\n",
              "      <th>644</th>\n",
              "      <td>MS</td>\n",
              "      <td>F</td>\n",
              "      <td>19</td>\n",
              "      <td>R</td>\n",
              "      <td>GT3</td>\n",
              "      <td>T</td>\n",
              "      <td>2</td>\n",
              "      <td>3</td>\n",
              "      <td>services</td>\n",
              "      <td>other</td>\n",
              "      <td>...</td>\n",
              "      <td>5</td>\n",
              "      <td>4</td>\n",
              "      <td>2</td>\n",
              "      <td>1</td>\n",
              "      <td>2</td>\n",
              "      <td>5</td>\n",
              "      <td>4</td>\n",
              "      <td>10</td>\n",
              "      <td>11</td>\n",
              "      <td>10</td>\n",
              "    </tr>\n",
              "    <tr>\n",
              "      <th>645</th>\n",
              "      <td>MS</td>\n",
              "      <td>F</td>\n",
              "      <td>18</td>\n",
              "      <td>U</td>\n",
              "      <td>LE3</td>\n",
              "      <td>T</td>\n",
              "      <td>3</td>\n",
              "      <td>1</td>\n",
              "      <td>teacher</td>\n",
              "      <td>services</td>\n",
              "      <td>...</td>\n",
              "      <td>4</td>\n",
              "      <td>3</td>\n",
              "      <td>4</td>\n",
              "      <td>1</td>\n",
              "      <td>1</td>\n",
              "      <td>1</td>\n",
              "      <td>4</td>\n",
              "      <td>15</td>\n",
              "      <td>15</td>\n",
              "      <td>16</td>\n",
              "    </tr>\n",
              "    <tr>\n",
              "      <th>646</th>\n",
              "      <td>MS</td>\n",
              "      <td>F</td>\n",
              "      <td>18</td>\n",
              "      <td>U</td>\n",
              "      <td>GT3</td>\n",
              "      <td>T</td>\n",
              "      <td>1</td>\n",
              "      <td>1</td>\n",
              "      <td>other</td>\n",
              "      <td>other</td>\n",
              "      <td>...</td>\n",
              "      <td>1</td>\n",
              "      <td>1</td>\n",
              "      <td>1</td>\n",
              "      <td>1</td>\n",
              "      <td>1</td>\n",
              "      <td>5</td>\n",
              "      <td>6</td>\n",
              "      <td>11</td>\n",
              "      <td>12</td>\n",
              "      <td>9</td>\n",
              "    </tr>\n",
              "    <tr>\n",
              "      <th>647</th>\n",
              "      <td>MS</td>\n",
              "      <td>M</td>\n",
              "      <td>17</td>\n",
              "      <td>U</td>\n",
              "      <td>LE3</td>\n",
              "      <td>T</td>\n",
              "      <td>3</td>\n",
              "      <td>1</td>\n",
              "      <td>services</td>\n",
              "      <td>services</td>\n",
              "      <td>...</td>\n",
              "      <td>2</td>\n",
              "      <td>4</td>\n",
              "      <td>5</td>\n",
              "      <td>3</td>\n",
              "      <td>4</td>\n",
              "      <td>2</td>\n",
              "      <td>6</td>\n",
              "      <td>10</td>\n",
              "      <td>10</td>\n",
              "      <td>10</td>\n",
              "    </tr>\n",
              "    <tr>\n",
              "      <th>648</th>\n",
              "      <td>MS</td>\n",
              "      <td>M</td>\n",
              "      <td>18</td>\n",
              "      <td>R</td>\n",
              "      <td>LE3</td>\n",
              "      <td>T</td>\n",
              "      <td>3</td>\n",
              "      <td>2</td>\n",
              "      <td>services</td>\n",
              "      <td>other</td>\n",
              "      <td>...</td>\n",
              "      <td>4</td>\n",
              "      <td>4</td>\n",
              "      <td>1</td>\n",
              "      <td>3</td>\n",
              "      <td>4</td>\n",
              "      <td>5</td>\n",
              "      <td>4</td>\n",
              "      <td>10</td>\n",
              "      <td>11</td>\n",
              "      <td>11</td>\n",
              "    </tr>\n",
              "  </tbody>\n",
              "</table>\n",
              "<p>649 rows × 33 columns</p>\n",
              "</div>\n",
              "    <div class=\"colab-df-buttons\">\n",
              "\n",
              "  <div class=\"colab-df-container\">\n",
              "    <button class=\"colab-df-convert\" onclick=\"convertToInteractive('df-5c5703ba-0ab1-4823-a3d7-d494ad649ff6')\"\n",
              "            title=\"Convert this dataframe to an interactive table.\"\n",
              "            style=\"display:none;\">\n",
              "\n",
              "  <svg xmlns=\"http://www.w3.org/2000/svg\" height=\"24px\" viewBox=\"0 -960 960 960\">\n",
              "    <path d=\"M120-120v-720h720v720H120Zm60-500h600v-160H180v160Zm220 220h160v-160H400v160Zm0 220h160v-160H400v160ZM180-400h160v-160H180v160Zm440 0h160v-160H620v160ZM180-180h160v-160H180v160Zm440 0h160v-160H620v160Z\"/>\n",
              "  </svg>\n",
              "    </button>\n",
              "\n",
              "  <style>\n",
              "    .colab-df-container {\n",
              "      display:flex;\n",
              "      gap: 12px;\n",
              "    }\n",
              "\n",
              "    .colab-df-convert {\n",
              "      background-color: #E8F0FE;\n",
              "      border: none;\n",
              "      border-radius: 50%;\n",
              "      cursor: pointer;\n",
              "      display: none;\n",
              "      fill: #1967D2;\n",
              "      height: 32px;\n",
              "      padding: 0 0 0 0;\n",
              "      width: 32px;\n",
              "    }\n",
              "\n",
              "    .colab-df-convert:hover {\n",
              "      background-color: #E2EBFA;\n",
              "      box-shadow: 0px 1px 2px rgba(60, 64, 67, 0.3), 0px 1px 3px 1px rgba(60, 64, 67, 0.15);\n",
              "      fill: #174EA6;\n",
              "    }\n",
              "\n",
              "    .colab-df-buttons div {\n",
              "      margin-bottom: 4px;\n",
              "    }\n",
              "\n",
              "    [theme=dark] .colab-df-convert {\n",
              "      background-color: #3B4455;\n",
              "      fill: #D2E3FC;\n",
              "    }\n",
              "\n",
              "    [theme=dark] .colab-df-convert:hover {\n",
              "      background-color: #434B5C;\n",
              "      box-shadow: 0px 1px 3px 1px rgba(0, 0, 0, 0.15);\n",
              "      filter: drop-shadow(0px 1px 2px rgba(0, 0, 0, 0.3));\n",
              "      fill: #FFFFFF;\n",
              "    }\n",
              "  </style>\n",
              "\n",
              "    <script>\n",
              "      const buttonEl =\n",
              "        document.querySelector('#df-5c5703ba-0ab1-4823-a3d7-d494ad649ff6 button.colab-df-convert');\n",
              "      buttonEl.style.display =\n",
              "        google.colab.kernel.accessAllowed ? 'block' : 'none';\n",
              "\n",
              "      async function convertToInteractive(key) {\n",
              "        const element = document.querySelector('#df-5c5703ba-0ab1-4823-a3d7-d494ad649ff6');\n",
              "        const dataTable =\n",
              "          await google.colab.kernel.invokeFunction('convertToInteractive',\n",
              "                                                    [key], {});\n",
              "        if (!dataTable) return;\n",
              "\n",
              "        const docLinkHtml = 'Like what you see? Visit the ' +\n",
              "          '<a target=\"_blank\" href=https://colab.research.google.com/notebooks/data_table.ipynb>data table notebook</a>'\n",
              "          + ' to learn more about interactive tables.';\n",
              "        element.innerHTML = '';\n",
              "        dataTable['output_type'] = 'display_data';\n",
              "        await google.colab.output.renderOutput(dataTable, element);\n",
              "        const docLink = document.createElement('div');\n",
              "        docLink.innerHTML = docLinkHtml;\n",
              "        element.appendChild(docLink);\n",
              "      }\n",
              "    </script>\n",
              "  </div>\n",
              "\n",
              "\n",
              "<div id=\"df-81e5b2a6-cbb2-4cda-aa39-fdfebcf5e92b\">\n",
              "  <button class=\"colab-df-quickchart\" onclick=\"quickchart('df-81e5b2a6-cbb2-4cda-aa39-fdfebcf5e92b')\"\n",
              "            title=\"Suggest charts\"\n",
              "            style=\"display:none;\">\n",
              "\n",
              "<svg xmlns=\"http://www.w3.org/2000/svg\" height=\"24px\"viewBox=\"0 0 24 24\"\n",
              "     width=\"24px\">\n",
              "    <g>\n",
              "        <path d=\"M19 3H5c-1.1 0-2 .9-2 2v14c0 1.1.9 2 2 2h14c1.1 0 2-.9 2-2V5c0-1.1-.9-2-2-2zM9 17H7v-7h2v7zm4 0h-2V7h2v10zm4 0h-2v-4h2v4z\"/>\n",
              "    </g>\n",
              "</svg>\n",
              "  </button>\n",
              "\n",
              "<style>\n",
              "  .colab-df-quickchart {\n",
              "      --bg-color: #E8F0FE;\n",
              "      --fill-color: #1967D2;\n",
              "      --hover-bg-color: #E2EBFA;\n",
              "      --hover-fill-color: #174EA6;\n",
              "      --disabled-fill-color: #AAA;\n",
              "      --disabled-bg-color: #DDD;\n",
              "  }\n",
              "\n",
              "  [theme=dark] .colab-df-quickchart {\n",
              "      --bg-color: #3B4455;\n",
              "      --fill-color: #D2E3FC;\n",
              "      --hover-bg-color: #434B5C;\n",
              "      --hover-fill-color: #FFFFFF;\n",
              "      --disabled-bg-color: #3B4455;\n",
              "      --disabled-fill-color: #666;\n",
              "  }\n",
              "\n",
              "  .colab-df-quickchart {\n",
              "    background-color: var(--bg-color);\n",
              "    border: none;\n",
              "    border-radius: 50%;\n",
              "    cursor: pointer;\n",
              "    display: none;\n",
              "    fill: var(--fill-color);\n",
              "    height: 32px;\n",
              "    padding: 0;\n",
              "    width: 32px;\n",
              "  }\n",
              "\n",
              "  .colab-df-quickchart:hover {\n",
              "    background-color: var(--hover-bg-color);\n",
              "    box-shadow: 0 1px 2px rgba(60, 64, 67, 0.3), 0 1px 3px 1px rgba(60, 64, 67, 0.15);\n",
              "    fill: var(--button-hover-fill-color);\n",
              "  }\n",
              "\n",
              "  .colab-df-quickchart-complete:disabled,\n",
              "  .colab-df-quickchart-complete:disabled:hover {\n",
              "    background-color: var(--disabled-bg-color);\n",
              "    fill: var(--disabled-fill-color);\n",
              "    box-shadow: none;\n",
              "  }\n",
              "\n",
              "  .colab-df-spinner {\n",
              "    border: 2px solid var(--fill-color);\n",
              "    border-color: transparent;\n",
              "    border-bottom-color: var(--fill-color);\n",
              "    animation:\n",
              "      spin 1s steps(1) infinite;\n",
              "  }\n",
              "\n",
              "  @keyframes spin {\n",
              "    0% {\n",
              "      border-color: transparent;\n",
              "      border-bottom-color: var(--fill-color);\n",
              "      border-left-color: var(--fill-color);\n",
              "    }\n",
              "    20% {\n",
              "      border-color: transparent;\n",
              "      border-left-color: var(--fill-color);\n",
              "      border-top-color: var(--fill-color);\n",
              "    }\n",
              "    30% {\n",
              "      border-color: transparent;\n",
              "      border-left-color: var(--fill-color);\n",
              "      border-top-color: var(--fill-color);\n",
              "      border-right-color: var(--fill-color);\n",
              "    }\n",
              "    40% {\n",
              "      border-color: transparent;\n",
              "      border-right-color: var(--fill-color);\n",
              "      border-top-color: var(--fill-color);\n",
              "    }\n",
              "    60% {\n",
              "      border-color: transparent;\n",
              "      border-right-color: var(--fill-color);\n",
              "    }\n",
              "    80% {\n",
              "      border-color: transparent;\n",
              "      border-right-color: var(--fill-color);\n",
              "      border-bottom-color: var(--fill-color);\n",
              "    }\n",
              "    90% {\n",
              "      border-color: transparent;\n",
              "      border-bottom-color: var(--fill-color);\n",
              "    }\n",
              "  }\n",
              "</style>\n",
              "\n",
              "  <script>\n",
              "    async function quickchart(key) {\n",
              "      const quickchartButtonEl =\n",
              "        document.querySelector('#' + key + ' button');\n",
              "      quickchartButtonEl.disabled = true;  // To prevent multiple clicks.\n",
              "      quickchartButtonEl.classList.add('colab-df-spinner');\n",
              "      try {\n",
              "        const charts = await google.colab.kernel.invokeFunction(\n",
              "            'suggestCharts', [key], {});\n",
              "      } catch (error) {\n",
              "        console.error('Error during call to suggestCharts:', error);\n",
              "      }\n",
              "      quickchartButtonEl.classList.remove('colab-df-spinner');\n",
              "      quickchartButtonEl.classList.add('colab-df-quickchart-complete');\n",
              "    }\n",
              "    (() => {\n",
              "      let quickchartButtonEl =\n",
              "        document.querySelector('#df-81e5b2a6-cbb2-4cda-aa39-fdfebcf5e92b button');\n",
              "      quickchartButtonEl.style.display =\n",
              "        google.colab.kernel.accessAllowed ? 'block' : 'none';\n",
              "    })();\n",
              "  </script>\n",
              "</div>\n",
              "    </div>\n",
              "  </div>\n"
            ]
          },
          "metadata": {},
          "execution_count": 8
        }
      ]
    },
    {
      "cell_type": "markdown",
      "source": [
        "### **1.2 Regulated Domain**\n",
        "\n",
        "Among other features, each record within the SPDS dataset conveys relevant\n",
        "data about one Portuguese school student’s (i.e., one subject’s) earned grades\n",
        "(Cortez, 2019). Given this student-centric data, the dataset can be said to belong to the Regulated Domain of Education."
      ],
      "metadata": {
        "id": "WY5Ghf2g7BLb"
      }
    },
    {
      "cell_type": "markdown",
      "source": [
        "### **1.3 Count of Observations and Variables**\n",
        "\n",
        "The SPDS dataset contains 649 observations, with each observation pertaining to\n",
        "data obtained from one Portuguese school student (Cortez, 2019). Furthermore,\n",
        "each observation encompasses 33 variables that collectively convey information\n",
        "about each subject’s demographics, social background, school characteristics, and grades."
      ],
      "metadata": {
        "id": "loMtale86P5E"
      }
    },
    {
      "cell_type": "code",
      "source": [
        "print('Number of observations in the SPDS dataset: ' + str(df.shape[0]))\n",
        "print('Number of variables in the SPDS dataset: ' + str(df.shape[1]))"
      ],
      "metadata": {
        "colab": {
          "base_uri": "https://localhost:8080/"
        },
        "id": "PPh_VCJT604Q",
        "outputId": "37703a1d-6d2d-4007-c494-a56d35132a11"
      },
      "execution_count": null,
      "outputs": [
        {
          "output_type": "stream",
          "name": "stdout",
          "text": [
            "Number of observations in the SPDS dataset: 649\n",
            "Number of variables in the SPDS dataset: 33\n"
          ]
        }
      ]
    },
    {
      "cell_type": "markdown",
      "source": [
        "### **1.4 Dependent Variables**\n",
        "\n",
        "Of the 33 variables available in the SPDS dataset, three were selected for use\n",
        "as dependent variables - \"G1\", \"G2\", and \"G3\" (Cortez, 2019). Each dependent\n",
        "variable is a quantitative, continuous variable that reflects a student’s grade after a particular school year period (first, second, or third). Specifically, G1 represents a subject’s grade after the first period of the school year, G2 represents a subject’s grade after the second period of the school year, and G3 represents a subject’s grade after the third (and final) period of the school year."
      ],
      "metadata": {
        "id": "3wKMGobd6DG-"
      }
    },
    {
      "cell_type": "code",
      "source": [
        "# Displaying the top few rows of the selected dependent variables (G1, G2, and G3)\n",
        "df[['G1','G2','G3']].head(5)"
      ],
      "metadata": {
        "colab": {
          "base_uri": "https://localhost:8080/",
          "height": 206
        },
        "id": "NG_jWAiH6Sbh",
        "outputId": "85c19566-9401-4311-80dd-7884f1014edf"
      },
      "execution_count": null,
      "outputs": [
        {
          "output_type": "execute_result",
          "data": {
            "text/plain": [
              "   G1  G2  G3\n",
              "0   0  11  11\n",
              "1   9  11  11\n",
              "2  12  13  12\n",
              "3  14  14  14\n",
              "4  11  13  13"
            ],
            "text/html": [
              "\n",
              "  <div id=\"df-a322ec38-48cb-4eaf-841d-ddb5e8cb785a\" class=\"colab-df-container\">\n",
              "    <div>\n",
              "<style scoped>\n",
              "    .dataframe tbody tr th:only-of-type {\n",
              "        vertical-align: middle;\n",
              "    }\n",
              "\n",
              "    .dataframe tbody tr th {\n",
              "        vertical-align: top;\n",
              "    }\n",
              "\n",
              "    .dataframe thead th {\n",
              "        text-align: right;\n",
              "    }\n",
              "</style>\n",
              "<table border=\"1\" class=\"dataframe\">\n",
              "  <thead>\n",
              "    <tr style=\"text-align: right;\">\n",
              "      <th></th>\n",
              "      <th>G1</th>\n",
              "      <th>G2</th>\n",
              "      <th>G3</th>\n",
              "    </tr>\n",
              "  </thead>\n",
              "  <tbody>\n",
              "    <tr>\n",
              "      <th>0</th>\n",
              "      <td>0</td>\n",
              "      <td>11</td>\n",
              "      <td>11</td>\n",
              "    </tr>\n",
              "    <tr>\n",
              "      <th>1</th>\n",
              "      <td>9</td>\n",
              "      <td>11</td>\n",
              "      <td>11</td>\n",
              "    </tr>\n",
              "    <tr>\n",
              "      <th>2</th>\n",
              "      <td>12</td>\n",
              "      <td>13</td>\n",
              "      <td>12</td>\n",
              "    </tr>\n",
              "    <tr>\n",
              "      <th>3</th>\n",
              "      <td>14</td>\n",
              "      <td>14</td>\n",
              "      <td>14</td>\n",
              "    </tr>\n",
              "    <tr>\n",
              "      <th>4</th>\n",
              "      <td>11</td>\n",
              "      <td>13</td>\n",
              "      <td>13</td>\n",
              "    </tr>\n",
              "  </tbody>\n",
              "</table>\n",
              "</div>\n",
              "    <div class=\"colab-df-buttons\">\n",
              "\n",
              "  <div class=\"colab-df-container\">\n",
              "    <button class=\"colab-df-convert\" onclick=\"convertToInteractive('df-a322ec38-48cb-4eaf-841d-ddb5e8cb785a')\"\n",
              "            title=\"Convert this dataframe to an interactive table.\"\n",
              "            style=\"display:none;\">\n",
              "\n",
              "  <svg xmlns=\"http://www.w3.org/2000/svg\" height=\"24px\" viewBox=\"0 -960 960 960\">\n",
              "    <path d=\"M120-120v-720h720v720H120Zm60-500h600v-160H180v160Zm220 220h160v-160H400v160Zm0 220h160v-160H400v160ZM180-400h160v-160H180v160Zm440 0h160v-160H620v160ZM180-180h160v-160H180v160Zm440 0h160v-160H620v160Z\"/>\n",
              "  </svg>\n",
              "    </button>\n",
              "\n",
              "  <style>\n",
              "    .colab-df-container {\n",
              "      display:flex;\n",
              "      gap: 12px;\n",
              "    }\n",
              "\n",
              "    .colab-df-convert {\n",
              "      background-color: #E8F0FE;\n",
              "      border: none;\n",
              "      border-radius: 50%;\n",
              "      cursor: pointer;\n",
              "      display: none;\n",
              "      fill: #1967D2;\n",
              "      height: 32px;\n",
              "      padding: 0 0 0 0;\n",
              "      width: 32px;\n",
              "    }\n",
              "\n",
              "    .colab-df-convert:hover {\n",
              "      background-color: #E2EBFA;\n",
              "      box-shadow: 0px 1px 2px rgba(60, 64, 67, 0.3), 0px 1px 3px 1px rgba(60, 64, 67, 0.15);\n",
              "      fill: #174EA6;\n",
              "    }\n",
              "\n",
              "    .colab-df-buttons div {\n",
              "      margin-bottom: 4px;\n",
              "    }\n",
              "\n",
              "    [theme=dark] .colab-df-convert {\n",
              "      background-color: #3B4455;\n",
              "      fill: #D2E3FC;\n",
              "    }\n",
              "\n",
              "    [theme=dark] .colab-df-convert:hover {\n",
              "      background-color: #434B5C;\n",
              "      box-shadow: 0px 1px 3px 1px rgba(0, 0, 0, 0.15);\n",
              "      filter: drop-shadow(0px 1px 2px rgba(0, 0, 0, 0.3));\n",
              "      fill: #FFFFFF;\n",
              "    }\n",
              "  </style>\n",
              "\n",
              "    <script>\n",
              "      const buttonEl =\n",
              "        document.querySelector('#df-a322ec38-48cb-4eaf-841d-ddb5e8cb785a button.colab-df-convert');\n",
              "      buttonEl.style.display =\n",
              "        google.colab.kernel.accessAllowed ? 'block' : 'none';\n",
              "\n",
              "      async function convertToInteractive(key) {\n",
              "        const element = document.querySelector('#df-a322ec38-48cb-4eaf-841d-ddb5e8cb785a');\n",
              "        const dataTable =\n",
              "          await google.colab.kernel.invokeFunction('convertToInteractive',\n",
              "                                                    [key], {});\n",
              "        if (!dataTable) return;\n",
              "\n",
              "        const docLinkHtml = 'Like what you see? Visit the ' +\n",
              "          '<a target=\"_blank\" href=https://colab.research.google.com/notebooks/data_table.ipynb>data table notebook</a>'\n",
              "          + ' to learn more about interactive tables.';\n",
              "        element.innerHTML = '';\n",
              "        dataTable['output_type'] = 'display_data';\n",
              "        await google.colab.output.renderOutput(dataTable, element);\n",
              "        const docLink = document.createElement('div');\n",
              "        docLink.innerHTML = docLinkHtml;\n",
              "        element.appendChild(docLink);\n",
              "      }\n",
              "    </script>\n",
              "  </div>\n",
              "\n",
              "\n",
              "<div id=\"df-7b6be8b8-4529-4a7f-81d2-3c63782cd9b1\">\n",
              "  <button class=\"colab-df-quickchart\" onclick=\"quickchart('df-7b6be8b8-4529-4a7f-81d2-3c63782cd9b1')\"\n",
              "            title=\"Suggest charts\"\n",
              "            style=\"display:none;\">\n",
              "\n",
              "<svg xmlns=\"http://www.w3.org/2000/svg\" height=\"24px\"viewBox=\"0 0 24 24\"\n",
              "     width=\"24px\">\n",
              "    <g>\n",
              "        <path d=\"M19 3H5c-1.1 0-2 .9-2 2v14c0 1.1.9 2 2 2h14c1.1 0 2-.9 2-2V5c0-1.1-.9-2-2-2zM9 17H7v-7h2v7zm4 0h-2V7h2v10zm4 0h-2v-4h2v4z\"/>\n",
              "    </g>\n",
              "</svg>\n",
              "  </button>\n",
              "\n",
              "<style>\n",
              "  .colab-df-quickchart {\n",
              "      --bg-color: #E8F0FE;\n",
              "      --fill-color: #1967D2;\n",
              "      --hover-bg-color: #E2EBFA;\n",
              "      --hover-fill-color: #174EA6;\n",
              "      --disabled-fill-color: #AAA;\n",
              "      --disabled-bg-color: #DDD;\n",
              "  }\n",
              "\n",
              "  [theme=dark] .colab-df-quickchart {\n",
              "      --bg-color: #3B4455;\n",
              "      --fill-color: #D2E3FC;\n",
              "      --hover-bg-color: #434B5C;\n",
              "      --hover-fill-color: #FFFFFF;\n",
              "      --disabled-bg-color: #3B4455;\n",
              "      --disabled-fill-color: #666;\n",
              "  }\n",
              "\n",
              "  .colab-df-quickchart {\n",
              "    background-color: var(--bg-color);\n",
              "    border: none;\n",
              "    border-radius: 50%;\n",
              "    cursor: pointer;\n",
              "    display: none;\n",
              "    fill: var(--fill-color);\n",
              "    height: 32px;\n",
              "    padding: 0;\n",
              "    width: 32px;\n",
              "  }\n",
              "\n",
              "  .colab-df-quickchart:hover {\n",
              "    background-color: var(--hover-bg-color);\n",
              "    box-shadow: 0 1px 2px rgba(60, 64, 67, 0.3), 0 1px 3px 1px rgba(60, 64, 67, 0.15);\n",
              "    fill: var(--button-hover-fill-color);\n",
              "  }\n",
              "\n",
              "  .colab-df-quickchart-complete:disabled,\n",
              "  .colab-df-quickchart-complete:disabled:hover {\n",
              "    background-color: var(--disabled-bg-color);\n",
              "    fill: var(--disabled-fill-color);\n",
              "    box-shadow: none;\n",
              "  }\n",
              "\n",
              "  .colab-df-spinner {\n",
              "    border: 2px solid var(--fill-color);\n",
              "    border-color: transparent;\n",
              "    border-bottom-color: var(--fill-color);\n",
              "    animation:\n",
              "      spin 1s steps(1) infinite;\n",
              "  }\n",
              "\n",
              "  @keyframes spin {\n",
              "    0% {\n",
              "      border-color: transparent;\n",
              "      border-bottom-color: var(--fill-color);\n",
              "      border-left-color: var(--fill-color);\n",
              "    }\n",
              "    20% {\n",
              "      border-color: transparent;\n",
              "      border-left-color: var(--fill-color);\n",
              "      border-top-color: var(--fill-color);\n",
              "    }\n",
              "    30% {\n",
              "      border-color: transparent;\n",
              "      border-left-color: var(--fill-color);\n",
              "      border-top-color: var(--fill-color);\n",
              "      border-right-color: var(--fill-color);\n",
              "    }\n",
              "    40% {\n",
              "      border-color: transparent;\n",
              "      border-right-color: var(--fill-color);\n",
              "      border-top-color: var(--fill-color);\n",
              "    }\n",
              "    60% {\n",
              "      border-color: transparent;\n",
              "      border-right-color: var(--fill-color);\n",
              "    }\n",
              "    80% {\n",
              "      border-color: transparent;\n",
              "      border-right-color: var(--fill-color);\n",
              "      border-bottom-color: var(--fill-color);\n",
              "    }\n",
              "    90% {\n",
              "      border-color: transparent;\n",
              "      border-bottom-color: var(--fill-color);\n",
              "    }\n",
              "  }\n",
              "</style>\n",
              "\n",
              "  <script>\n",
              "    async function quickchart(key) {\n",
              "      const quickchartButtonEl =\n",
              "        document.querySelector('#' + key + ' button');\n",
              "      quickchartButtonEl.disabled = true;  // To prevent multiple clicks.\n",
              "      quickchartButtonEl.classList.add('colab-df-spinner');\n",
              "      try {\n",
              "        const charts = await google.colab.kernel.invokeFunction(\n",
              "            'suggestCharts', [key], {});\n",
              "      } catch (error) {\n",
              "        console.error('Error during call to suggestCharts:', error);\n",
              "      }\n",
              "      quickchartButtonEl.classList.remove('colab-df-spinner');\n",
              "      quickchartButtonEl.classList.add('colab-df-quickchart-complete');\n",
              "    }\n",
              "    (() => {\n",
              "      let quickchartButtonEl =\n",
              "        document.querySelector('#df-7b6be8b8-4529-4a7f-81d2-3c63782cd9b1 button');\n",
              "      quickchartButtonEl.style.display =\n",
              "        google.colab.kernel.accessAllowed ? 'block' : 'none';\n",
              "    })();\n",
              "  </script>\n",
              "</div>\n",
              "    </div>\n",
              "  </div>\n"
            ]
          },
          "metadata": {},
          "execution_count": 10
        }
      ]
    },
    {
      "cell_type": "markdown",
      "source": [
        "### **1.5 Protected Class Variables**\n",
        "\n",
        "**Four variables in the SPDS dataset** appear to pertain to a protected class that is legally protected (Cortez, 2019). The specific variables, relevant protected class, and associated laws or legal precedents are displayed below in \"Table 1\".\n",
        "\n",
        "\n",
        "> Table 1 — A table communicating the legally recognized protected class variables found within the SPDS dataset and their associated\n",
        "legal precedent(s)/law(s)."
      ],
      "metadata": {
        "id": "XOEj53KB55xh"
      }
    },
    {
      "cell_type": "code",
      "source": [
        "# Recreating \"Table 1\" from the report, which displays the legally recognized\n",
        "# protected class variables from the dataset\n",
        "table_1 = pd.DataFrame(data={\n",
        "  \"Dataset Variable\": [\"age\",\"famsize\",\"Pstatus\",\"sex\"],\n",
        "  \"Protected Class\": [\"Age\",\"Familial Status\",\"Familial Status\",\"Sex\"],\n",
        "  \"Associated Law(s)/Legal Precedent(s)\": [\"Age Discrimination in Employment Act of 1967\",\n",
        "                                           \"Civil Rights Act of 1968\",\n",
        "                                           \"Civil Rights Act of 1968\",\n",
        "                                           \"Equal Pay Act of 1963; Civil Rights Act of 1964, 1991\"]\n",
        "})\n",
        "\n",
        "table_1.loc[:,'Dataset Variable':'Associated Law(s)/Legal Precedent(s)']"
      ],
      "metadata": {
        "colab": {
          "base_uri": "https://localhost:8080/",
          "height": 175
        },
        "id": "d9irEX7j3G--",
        "outputId": "adb8fa67-5927-428d-fb30-4ad732c64309"
      },
      "execution_count": null,
      "outputs": [
        {
          "output_type": "execute_result",
          "data": {
            "text/plain": [
              "  Dataset Variable  Protected Class  \\\n",
              "0              age              Age   \n",
              "1          famsize  Familial Status   \n",
              "2          Pstatus  Familial Status   \n",
              "3              sex              Sex   \n",
              "\n",
              "                Associated Law(s)/Legal Precedent(s)  \n",
              "0       Age Discrimination in Employment Act of 1967  \n",
              "1                           Civil Rights Act of 1968  \n",
              "2                           Civil Rights Act of 1968  \n",
              "3  Equal Pay Act of 1963; Civil Rights Act of 196...  "
            ],
            "text/html": [
              "\n",
              "  <div id=\"df-24476386-d844-4b72-a89d-bec0aebe93c8\" class=\"colab-df-container\">\n",
              "    <div>\n",
              "<style scoped>\n",
              "    .dataframe tbody tr th:only-of-type {\n",
              "        vertical-align: middle;\n",
              "    }\n",
              "\n",
              "    .dataframe tbody tr th {\n",
              "        vertical-align: top;\n",
              "    }\n",
              "\n",
              "    .dataframe thead th {\n",
              "        text-align: right;\n",
              "    }\n",
              "</style>\n",
              "<table border=\"1\" class=\"dataframe\">\n",
              "  <thead>\n",
              "    <tr style=\"text-align: right;\">\n",
              "      <th></th>\n",
              "      <th>Dataset Variable</th>\n",
              "      <th>Protected Class</th>\n",
              "      <th>Associated Law(s)/Legal Precedent(s)</th>\n",
              "    </tr>\n",
              "  </thead>\n",
              "  <tbody>\n",
              "    <tr>\n",
              "      <th>0</th>\n",
              "      <td>age</td>\n",
              "      <td>Age</td>\n",
              "      <td>Age Discrimination in Employment Act of 1967</td>\n",
              "    </tr>\n",
              "    <tr>\n",
              "      <th>1</th>\n",
              "      <td>famsize</td>\n",
              "      <td>Familial Status</td>\n",
              "      <td>Civil Rights Act of 1968</td>\n",
              "    </tr>\n",
              "    <tr>\n",
              "      <th>2</th>\n",
              "      <td>Pstatus</td>\n",
              "      <td>Familial Status</td>\n",
              "      <td>Civil Rights Act of 1968</td>\n",
              "    </tr>\n",
              "    <tr>\n",
              "      <th>3</th>\n",
              "      <td>sex</td>\n",
              "      <td>Sex</td>\n",
              "      <td>Equal Pay Act of 1963; Civil Rights Act of 196...</td>\n",
              "    </tr>\n",
              "  </tbody>\n",
              "</table>\n",
              "</div>\n",
              "    <div class=\"colab-df-buttons\">\n",
              "\n",
              "  <div class=\"colab-df-container\">\n",
              "    <button class=\"colab-df-convert\" onclick=\"convertToInteractive('df-24476386-d844-4b72-a89d-bec0aebe93c8')\"\n",
              "            title=\"Convert this dataframe to an interactive table.\"\n",
              "            style=\"display:none;\">\n",
              "\n",
              "  <svg xmlns=\"http://www.w3.org/2000/svg\" height=\"24px\" viewBox=\"0 -960 960 960\">\n",
              "    <path d=\"M120-120v-720h720v720H120Zm60-500h600v-160H180v160Zm220 220h160v-160H400v160Zm0 220h160v-160H400v160ZM180-400h160v-160H180v160Zm440 0h160v-160H620v160ZM180-180h160v-160H180v160Zm440 0h160v-160H620v160Z\"/>\n",
              "  </svg>\n",
              "    </button>\n",
              "\n",
              "  <style>\n",
              "    .colab-df-container {\n",
              "      display:flex;\n",
              "      gap: 12px;\n",
              "    }\n",
              "\n",
              "    .colab-df-convert {\n",
              "      background-color: #E8F0FE;\n",
              "      border: none;\n",
              "      border-radius: 50%;\n",
              "      cursor: pointer;\n",
              "      display: none;\n",
              "      fill: #1967D2;\n",
              "      height: 32px;\n",
              "      padding: 0 0 0 0;\n",
              "      width: 32px;\n",
              "    }\n",
              "\n",
              "    .colab-df-convert:hover {\n",
              "      background-color: #E2EBFA;\n",
              "      box-shadow: 0px 1px 2px rgba(60, 64, 67, 0.3), 0px 1px 3px 1px rgba(60, 64, 67, 0.15);\n",
              "      fill: #174EA6;\n",
              "    }\n",
              "\n",
              "    .colab-df-buttons div {\n",
              "      margin-bottom: 4px;\n",
              "    }\n",
              "\n",
              "    [theme=dark] .colab-df-convert {\n",
              "      background-color: #3B4455;\n",
              "      fill: #D2E3FC;\n",
              "    }\n",
              "\n",
              "    [theme=dark] .colab-df-convert:hover {\n",
              "      background-color: #434B5C;\n",
              "      box-shadow: 0px 1px 3px 1px rgba(0, 0, 0, 0.15);\n",
              "      filter: drop-shadow(0px 1px 2px rgba(0, 0, 0, 0.3));\n",
              "      fill: #FFFFFF;\n",
              "    }\n",
              "  </style>\n",
              "\n",
              "    <script>\n",
              "      const buttonEl =\n",
              "        document.querySelector('#df-24476386-d844-4b72-a89d-bec0aebe93c8 button.colab-df-convert');\n",
              "      buttonEl.style.display =\n",
              "        google.colab.kernel.accessAllowed ? 'block' : 'none';\n",
              "\n",
              "      async function convertToInteractive(key) {\n",
              "        const element = document.querySelector('#df-24476386-d844-4b72-a89d-bec0aebe93c8');\n",
              "        const dataTable =\n",
              "          await google.colab.kernel.invokeFunction('convertToInteractive',\n",
              "                                                    [key], {});\n",
              "        if (!dataTable) return;\n",
              "\n",
              "        const docLinkHtml = 'Like what you see? Visit the ' +\n",
              "          '<a target=\"_blank\" href=https://colab.research.google.com/notebooks/data_table.ipynb>data table notebook</a>'\n",
              "          + ' to learn more about interactive tables.';\n",
              "        element.innerHTML = '';\n",
              "        dataTable['output_type'] = 'display_data';\n",
              "        await google.colab.output.renderOutput(dataTable, element);\n",
              "        const docLink = document.createElement('div');\n",
              "        docLink.innerHTML = docLinkHtml;\n",
              "        element.appendChild(docLink);\n",
              "      }\n",
              "    </script>\n",
              "  </div>\n",
              "\n",
              "\n",
              "<div id=\"df-2b2daeb3-ab41-4407-86a1-ddefbb002b06\">\n",
              "  <button class=\"colab-df-quickchart\" onclick=\"quickchart('df-2b2daeb3-ab41-4407-86a1-ddefbb002b06')\"\n",
              "            title=\"Suggest charts\"\n",
              "            style=\"display:none;\">\n",
              "\n",
              "<svg xmlns=\"http://www.w3.org/2000/svg\" height=\"24px\"viewBox=\"0 0 24 24\"\n",
              "     width=\"24px\">\n",
              "    <g>\n",
              "        <path d=\"M19 3H5c-1.1 0-2 .9-2 2v14c0 1.1.9 2 2 2h14c1.1 0 2-.9 2-2V5c0-1.1-.9-2-2-2zM9 17H7v-7h2v7zm4 0h-2V7h2v10zm4 0h-2v-4h2v4z\"/>\n",
              "    </g>\n",
              "</svg>\n",
              "  </button>\n",
              "\n",
              "<style>\n",
              "  .colab-df-quickchart {\n",
              "      --bg-color: #E8F0FE;\n",
              "      --fill-color: #1967D2;\n",
              "      --hover-bg-color: #E2EBFA;\n",
              "      --hover-fill-color: #174EA6;\n",
              "      --disabled-fill-color: #AAA;\n",
              "      --disabled-bg-color: #DDD;\n",
              "  }\n",
              "\n",
              "  [theme=dark] .colab-df-quickchart {\n",
              "      --bg-color: #3B4455;\n",
              "      --fill-color: #D2E3FC;\n",
              "      --hover-bg-color: #434B5C;\n",
              "      --hover-fill-color: #FFFFFF;\n",
              "      --disabled-bg-color: #3B4455;\n",
              "      --disabled-fill-color: #666;\n",
              "  }\n",
              "\n",
              "  .colab-df-quickchart {\n",
              "    background-color: var(--bg-color);\n",
              "    border: none;\n",
              "    border-radius: 50%;\n",
              "    cursor: pointer;\n",
              "    display: none;\n",
              "    fill: var(--fill-color);\n",
              "    height: 32px;\n",
              "    padding: 0;\n",
              "    width: 32px;\n",
              "  }\n",
              "\n",
              "  .colab-df-quickchart:hover {\n",
              "    background-color: var(--hover-bg-color);\n",
              "    box-shadow: 0 1px 2px rgba(60, 64, 67, 0.3), 0 1px 3px 1px rgba(60, 64, 67, 0.15);\n",
              "    fill: var(--button-hover-fill-color);\n",
              "  }\n",
              "\n",
              "  .colab-df-quickchart-complete:disabled,\n",
              "  .colab-df-quickchart-complete:disabled:hover {\n",
              "    background-color: var(--disabled-bg-color);\n",
              "    fill: var(--disabled-fill-color);\n",
              "    box-shadow: none;\n",
              "  }\n",
              "\n",
              "  .colab-df-spinner {\n",
              "    border: 2px solid var(--fill-color);\n",
              "    border-color: transparent;\n",
              "    border-bottom-color: var(--fill-color);\n",
              "    animation:\n",
              "      spin 1s steps(1) infinite;\n",
              "  }\n",
              "\n",
              "  @keyframes spin {\n",
              "    0% {\n",
              "      border-color: transparent;\n",
              "      border-bottom-color: var(--fill-color);\n",
              "      border-left-color: var(--fill-color);\n",
              "    }\n",
              "    20% {\n",
              "      border-color: transparent;\n",
              "      border-left-color: var(--fill-color);\n",
              "      border-top-color: var(--fill-color);\n",
              "    }\n",
              "    30% {\n",
              "      border-color: transparent;\n",
              "      border-left-color: var(--fill-color);\n",
              "      border-top-color: var(--fill-color);\n",
              "      border-right-color: var(--fill-color);\n",
              "    }\n",
              "    40% {\n",
              "      border-color: transparent;\n",
              "      border-right-color: var(--fill-color);\n",
              "      border-top-color: var(--fill-color);\n",
              "    }\n",
              "    60% {\n",
              "      border-color: transparent;\n",
              "      border-right-color: var(--fill-color);\n",
              "    }\n",
              "    80% {\n",
              "      border-color: transparent;\n",
              "      border-right-color: var(--fill-color);\n",
              "      border-bottom-color: var(--fill-color);\n",
              "    }\n",
              "    90% {\n",
              "      border-color: transparent;\n",
              "      border-bottom-color: var(--fill-color);\n",
              "    }\n",
              "  }\n",
              "</style>\n",
              "\n",
              "  <script>\n",
              "    async function quickchart(key) {\n",
              "      const quickchartButtonEl =\n",
              "        document.querySelector('#' + key + ' button');\n",
              "      quickchartButtonEl.disabled = true;  // To prevent multiple clicks.\n",
              "      quickchartButtonEl.classList.add('colab-df-spinner');\n",
              "      try {\n",
              "        const charts = await google.colab.kernel.invokeFunction(\n",
              "            'suggestCharts', [key], {});\n",
              "      } catch (error) {\n",
              "        console.error('Error during call to suggestCharts:', error);\n",
              "      }\n",
              "      quickchartButtonEl.classList.remove('colab-df-spinner');\n",
              "      quickchartButtonEl.classList.add('colab-df-quickchart-complete');\n",
              "    }\n",
              "    (() => {\n",
              "      let quickchartButtonEl =\n",
              "        document.querySelector('#df-2b2daeb3-ab41-4407-86a1-ddefbb002b06 button');\n",
              "      quickchartButtonEl.style.display =\n",
              "        google.colab.kernel.accessAllowed ? 'block' : 'none';\n",
              "    })();\n",
              "  </script>\n",
              "</div>\n",
              "    </div>\n",
              "  </div>\n"
            ]
          },
          "metadata": {},
          "execution_count": 11
        }
      ]
    },
    {
      "cell_type": "markdown",
      "source": [
        "# **Step 2:**"
      ],
      "metadata": {
        "id": "CuZNdgMuO_ty"
      }
    },
    {
      "cell_type": "markdown",
      "source": [
        "### **2.1 Members Associated with Protected Class Variables**"
      ],
      "metadata": {
        "id": "KlcZ2QsaHhjT"
      }
    },
    {
      "cell_type": "code",
      "source": [
        "# Members associated with the 'age' protected class variable\n",
        "age_grouped = pd.DataFrame({\n",
        "    'Age': [15,16,17,18,19,20,21,22],\n",
        "    'Count': df['age'].value_counts().sort_index()\n",
        "})\n",
        "\n",
        "# Combining groups to create subsets of membership categories\n",
        "age_grouped['Age'] = age_grouped['Age'].map({15:'15-16',16:'15-16',\n",
        "                                             17:'17-18',18:'17-18',\n",
        "                                             19:'19+',20:'19+',21:'19+',22:'19+'})\n",
        "age_grouped = age_grouped.groupby('Age').sum()\n",
        "print(list(age_grouped.index))"
      ],
      "metadata": {
        "id": "pwNeLEpiHrft",
        "colab": {
          "base_uri": "https://localhost:8080/"
        },
        "outputId": "31550886-2dce-4e13-d2fe-7a4893710541"
      },
      "execution_count": null,
      "outputs": [
        {
          "output_type": "stream",
          "name": "stdout",
          "text": [
            "['15-16', '17-18', '19+']\n"
          ]
        }
      ]
    },
    {
      "cell_type": "code",
      "source": [
        "# Members associated with the 'famsize' protected class variable\n",
        "print(list(df['famsize'].value_counts().sort_index().index))"
      ],
      "metadata": {
        "colab": {
          "base_uri": "https://localhost:8080/"
        },
        "id": "t6uCjRfmYh2P",
        "outputId": "acc050ba-4757-4a3c-822e-940f55c98990"
      },
      "execution_count": null,
      "outputs": [
        {
          "output_type": "stream",
          "name": "stdout",
          "text": [
            "['GT3', 'LE3']\n"
          ]
        }
      ]
    },
    {
      "cell_type": "code",
      "source": [
        "# Members associated with the 'Pstatus' protected class variable\n",
        "print(list(df['Pstatus'].value_counts().sort_index().index))"
      ],
      "metadata": {
        "colab": {
          "base_uri": "https://localhost:8080/"
        },
        "id": "Mbt3IjQyYkir",
        "outputId": "7f6c3a46-10c3-4fde-8d93-b44d75e1c239"
      },
      "execution_count": null,
      "outputs": [
        {
          "output_type": "stream",
          "name": "stdout",
          "text": [
            "['A', 'T']\n"
          ]
        }
      ]
    },
    {
      "cell_type": "code",
      "source": [
        "# Members associated with the 'sex' protected class variable\n",
        "print(list(df['sex'].value_counts().sort_index().index))"
      ],
      "metadata": {
        "colab": {
          "base_uri": "https://localhost:8080/"
        },
        "id": "vQfquT6bYlAv",
        "outputId": "059ffd4c-54e6-4fac-e79d-f511553867cf"
      },
      "execution_count": null,
      "outputs": [
        {
          "output_type": "stream",
          "name": "stdout",
          "text": [
            "['F', 'M']\n"
          ]
        }
      ]
    },
    {
      "cell_type": "markdown",
      "source": [
        "### **2.2 Relationship Between Values and Discretized Variables**"
      ],
      "metadata": {
        "id": "Q1P4amv_Hh65"
      }
    },
    {
      "cell_type": "code",
      "source": [
        "# Clarifying the frequency of values for the \"G1\" dependent variable\n",
        "df['G1'].value_counts().sort_index()"
      ],
      "metadata": {
        "id": "ZoG751pSHsAd",
        "colab": {
          "base_uri": "https://localhost:8080/"
        },
        "outputId": "083262f9-b2b1-4b53-b70f-90af7bf20a5e"
      },
      "execution_count": null,
      "outputs": [
        {
          "output_type": "execute_result",
          "data": {
            "text/plain": [
              "0      1\n",
              "4      2\n",
              "5      5\n",
              "6      9\n",
              "7     33\n",
              "8     42\n",
              "9     65\n",
              "10    95\n",
              "11    91\n",
              "12    82\n",
              "13    72\n",
              "14    71\n",
              "15    35\n",
              "16    22\n",
              "17    16\n",
              "18     7\n",
              "19     1\n",
              "Name: G1, dtype: int64"
            ]
          },
          "metadata": {},
          "execution_count": 16
        }
      ]
    },
    {
      "cell_type": "code",
      "source": [
        "# Discretizing the \"G1\" dependent variable based on possible variable values\n",
        "df['G1_disc'] = df['G1'].map({0:'0-5', 4:'0-5', 5:'0-5',\n",
        "                             6: '6-10', 7: '6-10', 8: '6-10', 9: '6-10', 10: '6-10',\n",
        "                             11: '11-15', 12: '11-15', 13: '11-15', 14: '11-15', 15: '11-15',\n",
        "                             16: '16-19', 17: '16-19', 18: '16-19', 19: '16-19'})\n",
        "df['G1_disc'].value_counts().sort_index()"
      ],
      "metadata": {
        "colab": {
          "base_uri": "https://localhost:8080/"
        },
        "id": "tIS5GZ_l8tuH",
        "outputId": "cc425005-1552-4d5a-d31c-3374e7d2db67"
      },
      "execution_count": null,
      "outputs": [
        {
          "output_type": "execute_result",
          "data": {
            "text/plain": [
              "0-5        8\n",
              "11-15    351\n",
              "16-19     46\n",
              "6-10     244\n",
              "Name: G1_disc, dtype: int64"
            ]
          },
          "metadata": {},
          "execution_count": 17
        }
      ]
    },
    {
      "cell_type": "code",
      "source": [
        "# Clarifying the frequency of values for the \"G2\" dependent variable\n",
        "df['G2'].value_counts().sort_index()"
      ],
      "metadata": {
        "colab": {
          "base_uri": "https://localhost:8080/"
        },
        "id": "cMiV0OTt8x2g",
        "outputId": "d60e21f1-bd2d-4ae9-cbaf-8157f6140d3c"
      },
      "execution_count": null,
      "outputs": [
        {
          "output_type": "execute_result",
          "data": {
            "text/plain": [
              "0       7\n",
              "5       3\n",
              "6       7\n",
              "7      16\n",
              "8      40\n",
              "9      72\n",
              "10     83\n",
              "11    103\n",
              "12     86\n",
              "13     80\n",
              "14     54\n",
              "15     38\n",
              "16     25\n",
              "17     20\n",
              "18     14\n",
              "19      1\n",
              "Name: G2, dtype: int64"
            ]
          },
          "metadata": {},
          "execution_count": 18
        }
      ]
    },
    {
      "cell_type": "code",
      "source": [
        "# Discretizing the \"G2\" dependent variable based on possible variable values\n",
        "df['G2_disc'] = df['G2'].map({0:'0-5', 5:'0-5',\n",
        "                             6: '6-10', 7: '6-10', 8: '6-10', 9: '6-10', 10: '6-10',\n",
        "                             11: '11-15', 12: '11-15', 13: '11-15', 14: '11-15', 15: '11-15',\n",
        "                             16: '16-19', 17: '16-19', 18: '16-19', 19: '16-19'})\n",
        "df['G2_disc'].value_counts().sort_index()"
      ],
      "metadata": {
        "colab": {
          "base_uri": "https://localhost:8080/"
        },
        "id": "tvevPG5t8zC5",
        "outputId": "db88121c-f33a-417a-c5aa-81c6ee2f9ddf"
      },
      "execution_count": null,
      "outputs": [
        {
          "output_type": "execute_result",
          "data": {
            "text/plain": [
              "0-5       10\n",
              "11-15    361\n",
              "16-19     60\n",
              "6-10     218\n",
              "Name: G2_disc, dtype: int64"
            ]
          },
          "metadata": {},
          "execution_count": 19
        }
      ]
    },
    {
      "cell_type": "code",
      "source": [
        "# Clarifying the frequency of values for the \"G3\" dependent variable\n",
        "df['G3'].value_counts().sort_index()"
      ],
      "metadata": {
        "colab": {
          "base_uri": "https://localhost:8080/"
        },
        "id": "XONAmp7B84QU",
        "outputId": "fb7c13b8-4cf1-4fc0-fc3a-1c51cd672ba6"
      },
      "execution_count": null,
      "outputs": [
        {
          "output_type": "execute_result",
          "data": {
            "text/plain": [
              "0      15\n",
              "1       1\n",
              "5       1\n",
              "6       3\n",
              "7      10\n",
              "8      35\n",
              "9      35\n",
              "10     97\n",
              "11    104\n",
              "12     72\n",
              "13     82\n",
              "14     63\n",
              "15     49\n",
              "16     36\n",
              "17     29\n",
              "18     15\n",
              "19      2\n",
              "Name: G3, dtype: int64"
            ]
          },
          "metadata": {},
          "execution_count": 20
        }
      ]
    },
    {
      "cell_type": "code",
      "source": [
        "# Discretizing the \"G3\" dependent variable based on possible variable values\n",
        "df['G3_disc'] = df['G3'].map({0:'0-5', 1:'0-5', 5:'0-5',\n",
        "                             6: '6-10', 7: '6-10', 8: '6-10', 9: '6-10', 10: '6-10',\n",
        "                             11: '11-15', 12: '11-15', 13: '11-15', 14: '11-15', 15: '11-15',\n",
        "                             16: '16-19', 17: '16-19', 18: '16-19', 19: '16-19'})\n",
        "df['G3_disc'].value_counts().sort_index()"
      ],
      "metadata": {
        "colab": {
          "base_uri": "https://localhost:8080/"
        },
        "id": "CqOQvsbM87a2",
        "outputId": "fc9cc39f-67f0-42c1-bec8-f4c633f66092"
      },
      "execution_count": null,
      "outputs": [
        {
          "output_type": "execute_result",
          "data": {
            "text/plain": [
              "0-5       17\n",
              "11-15    370\n",
              "16-19     82\n",
              "6-10     180\n",
              "Name: G3_disc, dtype: int64"
            ]
          },
          "metadata": {},
          "execution_count": 21
        }
      ]
    },
    {
      "cell_type": "markdown",
      "source": [
        "### **2.3 Protected Class Variable Frequency**"
      ],
      "metadata": {
        "id": "uSLcu3LHHiHA"
      }
    },
    {
      "cell_type": "code",
      "source": [
        "# Frequency for each member associated with the 'age' protected class variable\n",
        "age_grouped = pd.DataFrame({\n",
        "    'Age': [15,16,17,18,19,20,21,22],\n",
        "    'Count': df['age'].value_counts().sort_index()\n",
        "})\n",
        "age_grouped['Age'] = age_grouped['Age'].map({15:'15-16',16:'15-16',17:'17-18',18:'17-18',19:'19+',20:'19+',21:'19+',22:'19+'})\n",
        "age_grouped = age_grouped.groupby('Age').sum()\n",
        "print(age_grouped)"
      ],
      "metadata": {
        "id": "e7KHeRDvT97r",
        "colab": {
          "base_uri": "https://localhost:8080/"
        },
        "outputId": "5b08118f-2c4c-454d-8e14-f7eb1802c3e9"
      },
      "execution_count": null,
      "outputs": [
        {
          "output_type": "stream",
          "name": "stdout",
          "text": [
            "       Count\n",
            "Age         \n",
            "15-16    289\n",
            "17-18    319\n",
            "19+       41\n"
          ]
        }
      ]
    },
    {
      "cell_type": "code",
      "source": [
        "# Frequency for each member associated with the 'famsize' protected class variable\n",
        "df['famsize'].value_counts().sort_index()"
      ],
      "metadata": {
        "colab": {
          "base_uri": "https://localhost:8080/"
        },
        "id": "FtsszbgLY1hS",
        "outputId": "da4d5808-f995-4f21-cac3-9fe35892ef22"
      },
      "execution_count": null,
      "outputs": [
        {
          "output_type": "execute_result",
          "data": {
            "text/plain": [
              "GT3    457\n",
              "LE3    192\n",
              "Name: famsize, dtype: int64"
            ]
          },
          "metadata": {},
          "execution_count": 23
        }
      ]
    },
    {
      "cell_type": "code",
      "source": [
        "# Frequency for each member associated with the 'Pstatus' protected class variable\n",
        "df['Pstatus'].value_counts().sort_index()"
      ],
      "metadata": {
        "colab": {
          "base_uri": "https://localhost:8080/"
        },
        "id": "c2uzc2mZY1yC",
        "outputId": "5d0319d4-19e0-46f0-b428-a3baa576e98e"
      },
      "execution_count": null,
      "outputs": [
        {
          "output_type": "execute_result",
          "data": {
            "text/plain": [
              "A     80\n",
              "T    569\n",
              "Name: Pstatus, dtype: int64"
            ]
          },
          "metadata": {},
          "execution_count": 24
        }
      ]
    },
    {
      "cell_type": "code",
      "source": [
        "# Frequency for each member associated with the 'sex' protected class variable\n",
        "df['sex'].value_counts().sort_index()"
      ],
      "metadata": {
        "colab": {
          "base_uri": "https://localhost:8080/"
        },
        "id": "R4BQSUBcY18y",
        "outputId": "ce77b466-d2f1-4eee-96f1-de298ee9269b"
      },
      "execution_count": null,
      "outputs": [
        {
          "output_type": "execute_result",
          "data": {
            "text/plain": [
              "F    383\n",
              "M    266\n",
              "Name: sex, dtype: int64"
            ]
          },
          "metadata": {},
          "execution_count": 25
        }
      ]
    },
    {
      "cell_type": "markdown",
      "source": [
        "### **2.4 Protected Class Histograms**"
      ],
      "metadata": {
        "id": "WG2LpDTFGuUu"
      }
    },
    {
      "cell_type": "markdown",
      "source": [
        "##### 2.4.1 Histograms for \"age\""
      ],
      "metadata": {
        "id": "ElLFzZKBfSyw"
      }
    },
    {
      "cell_type": "markdown",
      "source": [
        "###### G1 (\"age\")"
      ],
      "metadata": {
        "id": "0ytl4oeXfd_I"
      }
    },
    {
      "cell_type": "code",
      "source": [
        "age = df.copy()\n",
        "age['age_grouped'] = age['age'].map({15:'15-16',16:'15-16',17:'17-18',18:'17-18',19:'19+',20:'19+',21:'19+',22:'19+'})\n",
        "\n",
        "# G1 Histogram for \"age\"\n",
        "plt.hist(age[age['age_grouped']=='17-18']['G1_disc'],label='Age 17-18',alpha=0.75)\n",
        "plt.hist(age[age['age_grouped']=='15-16']['G1_disc'],label='Age 15-16',alpha=0.75)\n",
        "plt.hist(age[age['age_grouped']=='19+']['G1_disc'],label='Age 19+',alpha=0.75,range=('0-5','16-19'))\n",
        "plt.title('Distribution of G1 (\"age\")',fontsize=14)\n",
        "plt.xlabel('G1 (Discretized)',fontsize=12)\n",
        "plt.xlim([-0.1,3.1])\n",
        "plt.xticks(ticks=[0.15,1.05,1.95,2.85],labels=['0-5','6-10','11-15','16-19'],fontsize=10)\n",
        "plt.ylabel('Frequency',fontsize=12)\n",
        "plt.legend(['Age 15-16','Age 17-18','Age 19+'])\n",
        "plt.savefig('./figures/G1_age_histogram.jpg')\n",
        "plt.show()"
      ],
      "metadata": {
        "id": "rU1dgICKNYD8",
        "colab": {
          "base_uri": "https://localhost:8080/",
          "height": 477
        },
        "outputId": "5dabeb86-a40a-4451-fa0f-2f0dcdce0165"
      },
      "execution_count": null,
      "outputs": [
        {
          "output_type": "display_data",
          "data": {
            "text/plain": [
              "<Figure size 640x480 with 1 Axes>"
            ],
            "image/png": "[encoded data removed]"
          },
          "metadata": {}
        }
      ]
    },
    {
      "cell_type": "markdown",
      "source": [
        "###### G2 (\"age\")"
      ],
      "metadata": {
        "id": "5N_ypMrRgKbE"
      }
    },
    {
      "cell_type": "code",
      "source": [
        "# G2 Histogram for \"age\"\n",
        "plt.hist(age[age['age_grouped']=='15-16']['G2_disc'],label='Age 15-16',alpha=0.75)\n",
        "plt.hist(age[age['age_grouped']=='17-18']['G2_disc'],label='Age 17-18',alpha=0.75)\n",
        "plt.hist(age[age['age_grouped']=='19+']['G2_disc'],label='Age 19+',alpha=0.75)\n",
        "plt.title('Distribution of G2 (\"age\")',fontsize=14)\n",
        "plt.xlabel('G2 (Discretized)',fontsize=12)\n",
        "plt.xlim([-0.1,3.1])\n",
        "plt.xticks(ticks=[0.15,1.05,1.95,2.85],labels=['0-5','6-10','11-15','16-19'],fontsize=10)\n",
        "plt.ylabel('Frequency',fontsize=12)\n",
        "plt.legend(['Age 15-16','Age 17-18','Age 19+'])\n",
        "plt.savefig('./figures/G2_age_histogram.jpg')\n",
        "plt.show()"
      ],
      "metadata": {
        "colab": {
          "base_uri": "https://localhost:8080/",
          "height": 477
        },
        "id": "NyVJ9XsugCEe",
        "outputId": "95622810-03b2-44aa-c654-db9a77c348e1"
      },
      "execution_count": null,
      "outputs": [
        {
          "output_type": "display_data",
          "data": {
            "text/plain": [
              "<Figure size 640x480 with 1 Axes>"
            ],
            "image/png": "[encoded data removed]"
          },
          "metadata": {}
        }
      ]
    },
    {
      "cell_type": "markdown",
      "source": [
        "###### G3 (\"age\")"
      ],
      "metadata": {
        "id": "EeMiF8EagKx9"
      }
    },
    {
      "cell_type": "code",
      "source": [
        "# G3 Histogram for \"age\"\n",
        "plt.hist(age[age['age_grouped']=='15-16']['G3_disc'],label='Age 15-16',alpha=0.75)\n",
        "plt.hist(age[age['age_grouped']=='17-18']['G3_disc'],label='Age 17-18',alpha=0.75)\n",
        "plt.hist(age[age['age_grouped']=='19+']['G3_disc'],label='Age 19+',alpha=0.75)\n",
        "plt.title('Distribution of G3 (\"age\")',fontsize=14)\n",
        "plt.xlabel('G3 (Discretized)',fontsize=12)\n",
        "plt.xlim([-0.1,3.1])\n",
        "plt.xticks(ticks=[0.15,1.05,1.95,2.85],labels=['0-5','6-10','11-15','16-19'],fontsize=10)\n",
        "plt.ylabel('Frequency',fontsize=12)\n",
        "plt.legend(['Age 15-16','Age 17-18','Age 19+'])\n",
        "plt.savefig('./figures/G3_age_histogram.jpg')\n",
        "plt.show()"
      ],
      "metadata": {
        "colab": {
          "base_uri": "https://localhost:8080/",
          "height": 477
        },
        "id": "zjS4R_3WgCWD",
        "outputId": "f11ed922-6047-4491-80c6-b2080a3276cf"
      },
      "execution_count": null,
      "outputs": [
        {
          "output_type": "display_data",
          "data": {
            "text/plain": [
              "<Figure size 640x480 with 1 Axes>"
            ],
            "image/png": "[encoded data removed]"
          },
          "metadata": {}
        }
      ]
    },
    {
      "cell_type": "markdown",
      "source": [
        "#### 2.4.2 Histograms for \"famsize\""
      ],
      "metadata": {
        "id": "3gshRc7hiRZw"
      }
    },
    {
      "cell_type": "markdown",
      "source": [
        "##### G1 (\"famsize\")"
      ],
      "metadata": {
        "id": "LvDAAj-OioSd"
      }
    },
    {
      "cell_type": "code",
      "source": [
        "famsize = df.copy()\n",
        "\n",
        "# G1 Histogram for \"famsize\"\n",
        "plt.hist(famsize[famsize['famsize']=='GT3']['G1_disc'],label='GT3')\n",
        "plt.hist(famsize[famsize['famsize']=='LE3']['G1_disc'],label='LE3')\n",
        "plt.title('Distribution of G1 (famsize)',fontsize=14)\n",
        "plt.xlabel('G1 (Discretized)', fontsize=12)\n",
        "plt.xlim([-0.1,3.1])\n",
        "plt.xticks(ticks=[0.15,1.05,1.95,2.85],labels=['0-5','6-10','11-15','16-19'],fontsize=10)\n",
        "plt.ylabel('Frequency',fontsize=12)\n",
        "plt.legend()\n",
        "plt.savefig('./figures/G1_famsize_histogram.jpg')\n",
        "plt.show()"
      ],
      "metadata": {
        "colab": {
          "base_uri": "https://localhost:8080/",
          "height": 477
        },
        "id": "r9sTGMpUjR_8",
        "outputId": "2038fd56-114d-401c-a39b-a81cb4f95233"
      },
      "execution_count": null,
      "outputs": [
        {
          "output_type": "display_data",
          "data": {
            "text/plain": [
              "<Figure size 640x480 with 1 Axes>"
            ],
            "image/png": "[encoded data removed]"
          },
          "metadata": {}
        }
      ]
    },
    {
      "cell_type": "markdown",
      "source": [
        "##### G2 (\"famsize\")"
      ],
      "metadata": {
        "id": "4NAkIkcVirtC"
      }
    },
    {
      "cell_type": "code",
      "source": [
        "# G2 Histogram for \"famsize\"\n",
        "plt.hist(famsize[famsize['famsize']=='GT3']['G2_disc'],label='GT3')\n",
        "plt.hist(famsize[famsize['famsize']=='LE3']['G2_disc'],label='LE3')\n",
        "plt.title('Distribution of G2 (famsize)',fontsize=14)\n",
        "plt.xlabel('G2 (Discretized)', fontsize=12)\n",
        "plt.xlim([-0.1,3.1])\n",
        "plt.xticks(ticks=[0.15,1.05,1.95,2.85],labels=['0-5','6-10','11-15','16-19'],fontsize=10)\n",
        "plt.ylabel('Frequency',fontsize=12)\n",
        "plt.legend()\n",
        "plt.savefig('./figures/G2_famsize_histogram.jpg')\n",
        "plt.show()"
      ],
      "metadata": {
        "colab": {
          "base_uri": "https://localhost:8080/",
          "height": 477
        },
        "id": "6ERIu6w0jS8d",
        "outputId": "53b74fba-9b7e-42e4-bae1-eebbc30158d2"
      },
      "execution_count": null,
      "outputs": [
        {
          "output_type": "display_data",
          "data": {
            "text/plain": [
              "<Figure size 640x480 with 1 Axes>"
            ],
            "image/png": "[encoded data removed]"
          },
          "metadata": {}
        }
      ]
    },
    {
      "cell_type": "markdown",
      "source": [
        "##### G3 (\"famsize\")"
      ],
      "metadata": {
        "id": "xfRjbl7wisyD"
      }
    },
    {
      "cell_type": "code",
      "source": [
        "# G3 Histogram for \"famsize\"\n",
        "plt.hist(famsize[famsize['famsize']=='GT3']['G3_disc'],label='GT3')\n",
        "plt.hist(famsize[famsize['famsize']=='LE3']['G3_disc'],label='LE3')\n",
        "plt.title('Distribution of G3 (famsize)',fontsize=14)\n",
        "plt.xlabel('G3 (Discretized)', fontsize=12)\n",
        "plt.xlim([-0.1,3.1])\n",
        "plt.xticks(ticks=[0.15,1.05,1.95,2.85],labels=['0-5','6-10','11-15','16-19'],fontsize=10)\n",
        "plt.ylabel('Frequency',fontsize=12)\n",
        "plt.legend()\n",
        "plt.savefig('./figures/G3_famsize_histogram.jpg')\n",
        "plt.show()"
      ],
      "metadata": {
        "colab": {
          "base_uri": "https://localhost:8080/",
          "height": 477
        },
        "id": "nsb5qs8ijTeh",
        "outputId": "716af439-ba8c-47e9-b9bd-12e86bd026f3"
      },
      "execution_count": null,
      "outputs": [
        {
          "output_type": "display_data",
          "data": {
            "text/plain": [
              "<Figure size 640x480 with 1 Axes>"
            ],
            "image/png": "[encoded data removed]"
          },
          "metadata": {}
        }
      ]
    },
    {
      "cell_type": "markdown",
      "source": [
        "#### 2.4.3 Histograms for \"Pstatus\""
      ],
      "metadata": {
        "id": "attg7Qy9iSRU"
      }
    },
    {
      "cell_type": "markdown",
      "source": [
        "##### G1 (\"Pstatus\")"
      ],
      "metadata": {
        "id": "9PvBL3Abi3y_"
      }
    },
    {
      "cell_type": "code",
      "source": [
        "Pstatus = df.copy()\n",
        "\n",
        "# G1 Histogram for \"Pstatus\"\n",
        "plt.hist(Pstatus[Pstatus['Pstatus']=='T']['G1_disc'],label='T')\n",
        "plt.hist(Pstatus[Pstatus['Pstatus']=='A']['G1_disc'],label='A')\n",
        "plt.title('Distribution of G1 (Pstatus)',fontsize=14)\n",
        "plt.xlabel('G1 (Discretized)', fontsize=12)\n",
        "plt.xlim([-0.1,3.1])\n",
        "plt.xticks(ticks=[0.15,1.05,1.95,2.85],labels=['0-5','6-10','11-15','16-19'],fontsize=10)\n",
        "plt.ylabel('Frequency',fontsize=12)\n",
        "plt.legend()\n",
        "plt.savefig('./figures/G1_Pstatus_histogram.jpg')\n",
        "plt.show()"
      ],
      "metadata": {
        "colab": {
          "base_uri": "https://localhost:8080/",
          "height": 477
        },
        "id": "cJEvYs5VjUMw",
        "outputId": "3122ffb1-6bf5-45dd-bb8f-089b6959b8e9"
      },
      "execution_count": null,
      "outputs": [
        {
          "output_type": "display_data",
          "data": {
            "text/plain": [
              "<Figure size 640x480 with 1 Axes>"
            ],
            "image/png": "[encoded data removed]"
          },
          "metadata": {}
        }
      ]
    },
    {
      "cell_type": "markdown",
      "source": [
        "##### G2 (\"Pstatus\")"
      ],
      "metadata": {
        "id": "tJLZHlIti7Vm"
      }
    },
    {
      "cell_type": "code",
      "source": [
        "# G2 Histogram for \"Pstatus\"\n",
        "plt.hist(Pstatus[Pstatus['Pstatus']=='T']['G2_disc'],label='T')\n",
        "plt.hist(Pstatus[Pstatus['Pstatus']=='A']['G2_disc'],label='A')\n",
        "plt.title('Distribution of G2 (Pstatus)',fontsize=14)\n",
        "plt.xlabel('G2 (Discretized)', fontsize=12)\n",
        "plt.xlim([-0.1,3.1])\n",
        "plt.xticks(ticks=[0.15,1.05,1.95,2.85],labels=['0-5','6-10','11-15','16-19'],fontsize=10)\n",
        "plt.ylabel('Frequency',fontsize=12)\n",
        "plt.legend()\n",
        "plt.savefig('./figures/G2_Pstatus_histogram.jpg')\n",
        "plt.show()"
      ],
      "metadata": {
        "colab": {
          "base_uri": "https://localhost:8080/",
          "height": 477
        },
        "id": "5rN0wg2yjUnk",
        "outputId": "0cae83dd-6f5c-4a59-a4e3-4a75149270ad"
      },
      "execution_count": null,
      "outputs": [
        {
          "output_type": "display_data",
          "data": {
            "text/plain": [
              "<Figure size 640x480 with 1 Axes>"
            ],
            "image/png": "[encoded data removed]"
          },
          "metadata": {}
        }
      ]
    },
    {
      "cell_type": "markdown",
      "source": [
        "##### G3 (\"Pstatus\")"
      ],
      "metadata": {
        "id": "pkO8DLDii757"
      }
    },
    {
      "cell_type": "code",
      "source": [
        "# G3 Histogram for \"Pstatus\"\n",
        "plt.hist(Pstatus[Pstatus['Pstatus']=='T']['G3_disc'],label='T')\n",
        "plt.hist(Pstatus[Pstatus['Pstatus']=='A']['G3_disc'],label='A')\n",
        "plt.title('Distribution of G3 (Pstatus)',fontsize=14)\n",
        "plt.xlabel('G3 (Discretized)', fontsize=12)\n",
        "plt.xlim([-0.1,3.1])\n",
        "plt.xticks(ticks=[0.15,1.05,1.95,2.85],labels=['0-5','6-10','11-15','16-19'],fontsize=10)\n",
        "plt.ylabel('Frequency',fontsize=12)\n",
        "plt.legend()\n",
        "plt.savefig('./figures/G3_Pstatus_histogram.jpg')\n",
        "plt.show()"
      ],
      "metadata": {
        "colab": {
          "base_uri": "https://localhost:8080/",
          "height": 477
        },
        "id": "3pTZXYUYjVIa",
        "outputId": "79084f8b-3aa2-4f6b-89e0-58ad3f5f3e26"
      },
      "execution_count": null,
      "outputs": [
        {
          "output_type": "display_data",
          "data": {
            "text/plain": [
              "<Figure size 640x480 with 1 Axes>"
            ],
            "image/png": "[encoded data removed]"
          },
          "metadata": {}
        }
      ]
    },
    {
      "cell_type": "markdown",
      "source": [
        "#### 2.4.4 Histograms for \"sex\""
      ],
      "metadata": {
        "id": "MHU9tAQZiSZ2"
      }
    },
    {
      "cell_type": "markdown",
      "source": [
        "##### G1 (\"sex\")"
      ],
      "metadata": {
        "id": "e-cJj21ti6s0"
      }
    },
    {
      "cell_type": "code",
      "source": [
        "sex = df.copy()\n",
        "\n",
        "# G1 Histogram for \"sex\"\n",
        "plt.hist(sex[sex['sex']=='F']['G1_disc'],label='F')\n",
        "plt.hist(sex[sex['sex']=='M']['G1_disc'],label='M')\n",
        "plt.title('Distribution of G1 (sex)',fontsize=14)\n",
        "plt.xlabel('G1 (Discretized)', fontsize=12)\n",
        "plt.xlim([-0.1,3.1])\n",
        "plt.xticks(ticks=[0.15,1.05,1.95,2.85],labels=['0-5','6-10','11-15','16-19'],fontsize=10)\n",
        "plt.ylabel('Frequency',fontsize=12)\n",
        "plt.legend()\n",
        "plt.savefig('./figures/G1_sex_histogram.jpg')\n",
        "plt.show()"
      ],
      "metadata": {
        "colab": {
          "base_uri": "https://localhost:8080/",
          "height": 477
        },
        "id": "7aishX6-jVxs",
        "outputId": "9d6143dc-71de-4a3a-ed0a-ae8e80cf4f8c"
      },
      "execution_count": null,
      "outputs": [
        {
          "output_type": "display_data",
          "data": {
            "text/plain": [
              "<Figure size 640x480 with 1 Axes>"
            ],
            "image/png": "[encoded data removed]"
          },
          "metadata": {}
        }
      ]
    },
    {
      "cell_type": "markdown",
      "source": [
        "##### G2 (\"sex\")"
      ],
      "metadata": {
        "id": "FGH-GNkQi7h2"
      }
    },
    {
      "cell_type": "code",
      "source": [
        "# G2 Histogram for \"sex\"\n",
        "plt.hist(sex[sex['sex']=='F']['G2_disc'],label='F')\n",
        "plt.hist(sex[sex['sex']=='M']['G2_disc'],label='M')\n",
        "plt.title('Distribution of G2 (sex)',fontsize=14)\n",
        "plt.xlabel('G2 (Discretized)', fontsize=12)\n",
        "plt.xlim([-0.1,3.1])\n",
        "plt.xticks(ticks=[0.15,1.05,1.95,2.85],labels=['0-5','6-10','11-15','16-19'],fontsize=10)\n",
        "plt.ylabel('Frequency',fontsize=12)\n",
        "plt.legend()\n",
        "plt.savefig('./figures/G2_sex_histogram.jpg')\n",
        "plt.show()"
      ],
      "metadata": {
        "colab": {
          "base_uri": "https://localhost:8080/",
          "height": 477
        },
        "id": "4ZcH06iJjWQq",
        "outputId": "d33c7e75-45f1-42f8-f941-b7ff08203b0e"
      },
      "execution_count": null,
      "outputs": [
        {
          "output_type": "display_data",
          "data": {
            "text/plain": [
              "<Figure size 640x480 with 1 Axes>"
            ],
            "image/png": "[encoded data removed]"
          },
          "metadata": {}
        }
      ]
    },
    {
      "cell_type": "markdown",
      "source": [
        "##### G3 (\"sex\")"
      ],
      "metadata": {
        "id": "nNxfvfszi96j"
      }
    },
    {
      "cell_type": "code",
      "source": [
        "# G3 Histogram for \"sex\"\n",
        "plt.hist(sex[sex['sex']=='F']['G3_disc'],label='F')\n",
        "plt.hist(sex[sex['sex']=='M']['G3_disc'],label='M')\n",
        "plt.title('Distribution of G3 (sex)',fontsize=14)\n",
        "plt.xlabel('G3 (Discretized)', fontsize=12)\n",
        "plt.xlim([-0.1,3.1])\n",
        "plt.xticks(ticks=[0.15,1.05,1.95,2.85],labels=['0-5','6-10','11-15','16-19'],fontsize=10)\n",
        "plt.ylabel('Frequency',fontsize=12)\n",
        "plt.legend()\n",
        "plt.savefig('./figures/G3_sex_histogram.jpg')\n",
        "plt.show()"
      ],
      "metadata": {
        "colab": {
          "base_uri": "https://localhost:8080/",
          "height": 477
        },
        "id": "cnnsvVOkjWw5",
        "outputId": "ad5fa907-3917-46b3-c3a0-507b3fc615b5"
      },
      "execution_count": null,
      "outputs": [
        {
          "output_type": "display_data",
          "data": {
            "text/plain": [
              "<Figure size 640x480 with 1 Axes>"
            ],
            "image/png": "[encoded data removed]"
          },
          "metadata": {}
        }
      ]
    },
    {
      "cell_type": "markdown",
      "source": [
        "# **Step 3:**"
      ],
      "metadata": {
        "id": "uNdXe3z50N3a"
      }
    },
    {
      "cell_type": "markdown",
      "source": [
        "### 3.1 Identifying Privileged/Unprivileged Groups"
      ],
      "metadata": {
        "id": "alvbMxNA3wsT"
      }
    },
    {
      "cell_type": "code",
      "source": [
        "privileged_unprivileged = pd.DataFrame({})\n",
        "privileged_unprivileged['Protected Class'] = [\"age\", \"famsize\", \"Pstatus\", \"sex\"]\n",
        "privileged_unprivileged['Privileged Group'] = [\"15-18\", \"LE3\", \"T\", \"Male\"]\n",
        "privileged_unprivileged['Unprivileged Group'] = [\"19+\", \"GT3\", \"A\", \"Female\"]\n",
        "privileged_unprivileged.head(5)"
      ],
      "metadata": {
        "id": "b0r5homO0PBn",
        "colab": {
          "base_uri": "https://localhost:8080/",
          "height": 175
        },
        "outputId": "5346b63e-f60a-45d7-ffa2-e638c3815671"
      },
      "execution_count": null,
      "outputs": [
        {
          "output_type": "execute_result",
          "data": {
            "text/plain": [
              "  Protected Class Privileged Group Unprivileged Group\n",
              "0             age            15-18                19+\n",
              "1         famsize              LE3                GT3\n",
              "2         Pstatus                T                  A\n",
              "3             sex             Male             Female"
            ],
            "text/html": [
              "\n",
              "  <div id=\"df-0853eeed-f87d-4ff4-bc3a-1ba729010ae8\" class=\"colab-df-container\">\n",
              "    <div>\n",
              "<style scoped>\n",
              "    .dataframe tbody tr th:only-of-type {\n",
              "        vertical-align: middle;\n",
              "    }\n",
              "\n",
              "    .dataframe tbody tr th {\n",
              "        vertical-align: top;\n",
              "    }\n",
              "\n",
              "    .dataframe thead th {\n",
              "        text-align: right;\n",
              "    }\n",
              "</style>\n",
              "<table border=\"1\" class=\"dataframe\">\n",
              "  <thead>\n",
              "    <tr style=\"text-align: right;\">\n",
              "      <th></th>\n",
              "      <th>Protected Class</th>\n",
              "      <th>Privileged Group</th>\n",
              "      <th>Unprivileged Group</th>\n",
              "    </tr>\n",
              "  </thead>\n",
              "  <tbody>\n",
              "    <tr>\n",
              "      <th>0</th>\n",
              "      <td>age</td>\n",
              "      <td>15-18</td>\n",
              "      <td>19+</td>\n",
              "    </tr>\n",
              "    <tr>\n",
              "      <th>1</th>\n",
              "      <td>famsize</td>\n",
              "      <td>LE3</td>\n",
              "      <td>GT3</td>\n",
              "    </tr>\n",
              "    <tr>\n",
              "      <th>2</th>\n",
              "      <td>Pstatus</td>\n",
              "      <td>T</td>\n",
              "      <td>A</td>\n",
              "    </tr>\n",
              "    <tr>\n",
              "      <th>3</th>\n",
              "      <td>sex</td>\n",
              "      <td>Male</td>\n",
              "      <td>Female</td>\n",
              "    </tr>\n",
              "  </tbody>\n",
              "</table>\n",
              "</div>\n",
              "    <div class=\"colab-df-buttons\">\n",
              "\n",
              "  <div class=\"colab-df-container\">\n",
              "    <button class=\"colab-df-convert\" onclick=\"convertToInteractive('df-0853eeed-f87d-4ff4-bc3a-1ba729010ae8')\"\n",
              "            title=\"Convert this dataframe to an interactive table.\"\n",
              "            style=\"display:none;\">\n",
              "\n",
              "  <svg xmlns=\"http://www.w3.org/2000/svg\" height=\"24px\" viewBox=\"0 -960 960 960\">\n",
              "    <path d=\"M120-120v-720h720v720H120Zm60-500h600v-160H180v160Zm220 220h160v-160H400v160Zm0 220h160v-160H400v160ZM180-400h160v-160H180v160Zm440 0h160v-160H620v160ZM180-180h160v-160H180v160Zm440 0h160v-160H620v160Z\"/>\n",
              "  </svg>\n",
              "    </button>\n",
              "\n",
              "  <style>\n",
              "    .colab-df-container {\n",
              "      display:flex;\n",
              "      gap: 12px;\n",
              "    }\n",
              "\n",
              "    .colab-df-convert {\n",
              "      background-color: #E8F0FE;\n",
              "      border: none;\n",
              "      border-radius: 50%;\n",
              "      cursor: pointer;\n",
              "      display: none;\n",
              "      fill: #1967D2;\n",
              "      height: 32px;\n",
              "      padding: 0 0 0 0;\n",
              "      width: 32px;\n",
              "    }\n",
              "\n",
              "    .colab-df-convert:hover {\n",
              "      background-color: #E2EBFA;\n",
              "      box-shadow: 0px 1px 2px rgba(60, 64, 67, 0.3), 0px 1px 3px 1px rgba(60, 64, 67, 0.15);\n",
              "      fill: #174EA6;\n",
              "    }\n",
              "\n",
              "    .colab-df-buttons div {\n",
              "      margin-bottom: 4px;\n",
              "    }\n",
              "\n",
              "    [theme=dark] .colab-df-convert {\n",
              "      background-color: #3B4455;\n",
              "      fill: #D2E3FC;\n",
              "    }\n",
              "\n",
              "    [theme=dark] .colab-df-convert:hover {\n",
              "      background-color: #434B5C;\n",
              "      box-shadow: 0px 1px 3px 1px rgba(0, 0, 0, 0.15);\n",
              "      filter: drop-shadow(0px 1px 2px rgba(0, 0, 0, 0.3));\n",
              "      fill: #FFFFFF;\n",
              "    }\n",
              "  </style>\n",
              "\n",
              "    <script>\n",
              "      const buttonEl =\n",
              "        document.querySelector('#df-0853eeed-f87d-4ff4-bc3a-1ba729010ae8 button.colab-df-convert');\n",
              "      buttonEl.style.display =\n",
              "        google.colab.kernel.accessAllowed ? 'block' : 'none';\n",
              "\n",
              "      async function convertToInteractive(key) {\n",
              "        const element = document.querySelector('#df-0853eeed-f87d-4ff4-bc3a-1ba729010ae8');\n",
              "        const dataTable =\n",
              "          await google.colab.kernel.invokeFunction('convertToInteractive',\n",
              "                                                    [key], {});\n",
              "        if (!dataTable) return;\n",
              "\n",
              "        const docLinkHtml = 'Like what you see? Visit the ' +\n",
              "          '<a target=\"_blank\" href=https://colab.research.google.com/notebooks/data_table.ipynb>data table notebook</a>'\n",
              "          + ' to learn more about interactive tables.';\n",
              "        element.innerHTML = '';\n",
              "        dataTable['output_type'] = 'display_data';\n",
              "        await google.colab.output.renderOutput(dataTable, element);\n",
              "        const docLink = document.createElement('div');\n",
              "        docLink.innerHTML = docLinkHtml;\n",
              "        element.appendChild(docLink);\n",
              "      }\n",
              "    </script>\n",
              "  </div>\n",
              "\n",
              "\n",
              "<div id=\"df-d88d9352-1114-40dd-93f5-df507ef21bae\">\n",
              "  <button class=\"colab-df-quickchart\" onclick=\"quickchart('df-d88d9352-1114-40dd-93f5-df507ef21bae')\"\n",
              "            title=\"Suggest charts\"\n",
              "            style=\"display:none;\">\n",
              "\n",
              "<svg xmlns=\"http://www.w3.org/2000/svg\" height=\"24px\"viewBox=\"0 0 24 24\"\n",
              "     width=\"24px\">\n",
              "    <g>\n",
              "        <path d=\"M19 3H5c-1.1 0-2 .9-2 2v14c0 1.1.9 2 2 2h14c1.1 0 2-.9 2-2V5c0-1.1-.9-2-2-2zM9 17H7v-7h2v7zm4 0h-2V7h2v10zm4 0h-2v-4h2v4z\"/>\n",
              "    </g>\n",
              "</svg>\n",
              "  </button>\n",
              "\n",
              "<style>\n",
              "  .colab-df-quickchart {\n",
              "      --bg-color: #E8F0FE;\n",
              "      --fill-color: #1967D2;\n",
              "      --hover-bg-color: #E2EBFA;\n",
              "      --hover-fill-color: #174EA6;\n",
              "      --disabled-fill-color: #AAA;\n",
              "      --disabled-bg-color: #DDD;\n",
              "  }\n",
              "\n",
              "  [theme=dark] .colab-df-quickchart {\n",
              "      --bg-color: #3B4455;\n",
              "      --fill-color: #D2E3FC;\n",
              "      --hover-bg-color: #434B5C;\n",
              "      --hover-fill-color: #FFFFFF;\n",
              "      --disabled-bg-color: #3B4455;\n",
              "      --disabled-fill-color: #666;\n",
              "  }\n",
              "\n",
              "  .colab-df-quickchart {\n",
              "    background-color: var(--bg-color);\n",
              "    border: none;\n",
              "    border-radius: 50%;\n",
              "    cursor: pointer;\n",
              "    display: none;\n",
              "    fill: var(--fill-color);\n",
              "    height: 32px;\n",
              "    padding: 0;\n",
              "    width: 32px;\n",
              "  }\n",
              "\n",
              "  .colab-df-quickchart:hover {\n",
              "    background-color: var(--hover-bg-color);\n",
              "    box-shadow: 0 1px 2px rgba(60, 64, 67, 0.3), 0 1px 3px 1px rgba(60, 64, 67, 0.15);\n",
              "    fill: var(--button-hover-fill-color);\n",
              "  }\n",
              "\n",
              "  .colab-df-quickchart-complete:disabled,\n",
              "  .colab-df-quickchart-complete:disabled:hover {\n",
              "    background-color: var(--disabled-bg-color);\n",
              "    fill: var(--disabled-fill-color);\n",
              "    box-shadow: none;\n",
              "  }\n",
              "\n",
              "  .colab-df-spinner {\n",
              "    border: 2px solid var(--fill-color);\n",
              "    border-color: transparent;\n",
              "    border-bottom-color: var(--fill-color);\n",
              "    animation:\n",
              "      spin 1s steps(1) infinite;\n",
              "  }\n",
              "\n",
              "  @keyframes spin {\n",
              "    0% {\n",
              "      border-color: transparent;\n",
              "      border-bottom-color: var(--fill-color);\n",
              "      border-left-color: var(--fill-color);\n",
              "    }\n",
              "    20% {\n",
              "      border-color: transparent;\n",
              "      border-left-color: var(--fill-color);\n",
              "      border-top-color: var(--fill-color);\n",
              "    }\n",
              "    30% {\n",
              "      border-color: transparent;\n",
              "      border-left-color: var(--fill-color);\n",
              "      border-top-color: var(--fill-color);\n",
              "      border-right-color: var(--fill-color);\n",
              "    }\n",
              "    40% {\n",
              "      border-color: transparent;\n",
              "      border-right-color: var(--fill-color);\n",
              "      border-top-color: var(--fill-color);\n",
              "    }\n",
              "    60% {\n",
              "      border-color: transparent;\n",
              "      border-right-color: var(--fill-color);\n",
              "    }\n",
              "    80% {\n",
              "      border-color: transparent;\n",
              "      border-right-color: var(--fill-color);\n",
              "      border-bottom-color: var(--fill-color);\n",
              "    }\n",
              "    90% {\n",
              "      border-color: transparent;\n",
              "      border-bottom-color: var(--fill-color);\n",
              "    }\n",
              "  }\n",
              "</style>\n",
              "\n",
              "  <script>\n",
              "    async function quickchart(key) {\n",
              "      const quickchartButtonEl =\n",
              "        document.querySelector('#' + key + ' button');\n",
              "      quickchartButtonEl.disabled = true;  // To prevent multiple clicks.\n",
              "      quickchartButtonEl.classList.add('colab-df-spinner');\n",
              "      try {\n",
              "        const charts = await google.colab.kernel.invokeFunction(\n",
              "            'suggestCharts', [key], {});\n",
              "      } catch (error) {\n",
              "        console.error('Error during call to suggestCharts:', error);\n",
              "      }\n",
              "      quickchartButtonEl.classList.remove('colab-df-spinner');\n",
              "      quickchartButtonEl.classList.add('colab-df-quickchart-complete');\n",
              "    }\n",
              "    (() => {\n",
              "      let quickchartButtonEl =\n",
              "        document.querySelector('#df-d88d9352-1114-40dd-93f5-df507ef21bae button');\n",
              "      quickchartButtonEl.style.display =\n",
              "        google.colab.kernel.accessAllowed ? 'block' : 'none';\n",
              "    })();\n",
              "  </script>\n",
              "</div>\n",
              "    </div>\n",
              "  </div>\n"
            ]
          },
          "metadata": {},
          "execution_count": 38
        }
      ]
    },
    {
      "cell_type": "markdown",
      "source": [
        "## 3.2 Fairness Metrics - Original Dataset"
      ],
      "metadata": {
        "id": "s3LOsRps4OnS"
      }
    },
    {
      "cell_type": "markdown",
      "source": [
        "#### Variables for storing fairness metric results:"
      ],
      "metadata": {
        "id": "LjhxORGqmQwg"
      }
    },
    {
      "cell_type": "code",
      "source": [
        "variable_values = {}\n",
        "unique_variable_names = [f\"G{i + 1}_SP\" for i in range(3)]\n",
        "unique_variable_names.extend([f\"G{i + 1}_SP_T\" for i in range(3)])\n",
        "unique_variable_names.extend([f\"G{i + 1}_DI\" for i in range(3)])\n",
        "unique_variable_names.extend([f\"G{i + 1}_DI_T\" for i in range(3)])\n",
        "\n",
        "for var_name in unique_variable_names:\n",
        "    variable_values[var_name] = []"
      ],
      "metadata": {
        "id": "tG0DwZQvmQPN"
      },
      "execution_count": null,
      "outputs": []
    },
    {
      "cell_type": "markdown",
      "source": [
        "#### Preparing to Compute Fairness Metrics"
      ],
      "metadata": {
        "id": "Y9mxFGpyG4Y6"
      }
    },
    {
      "cell_type": "code",
      "source": [
        "# Creating a df with columns specific to Step 3\n",
        "step3_df = pd.DataFrame(data={})\n",
        "step3_df['age'] = df['age']\n",
        "df['age_grouped'] = df['age'].map({15:'15-16',16:'15-16', 17:'17-18',18:'17-18', 19:'19+',20:'19+',21:'19+',22:'19+'})\n",
        "step3_df['age_grouped'] = df['age_grouped']\n",
        "step3_df['age_binary'] = df['age_grouped'].map({'15-16':'<19', '17-18':'<19', '19+':'>=19'})\n",
        "step3_df['famsize'] = df['famsize']\n",
        "step3_df['Pstatus'] = df['Pstatus']\n",
        "step3_df['sex'] = df['sex']\n",
        "step3_df['G1'] = df['G1']\n",
        "step3_df['G2'] = df['G2']\n",
        "step3_df['G3'] = df['G3']\n",
        "step3_df['G1_disc'] = df['G1_disc']\n",
        "step3_df['G2_disc'] = df['G2_disc']\n",
        "step3_df['G3_disc'] = df['G3_disc']\n",
        "\n",
        "# Displaying the df\n",
        "step3_df.head(5)"
      ],
      "metadata": {
        "colab": {
          "base_uri": "https://localhost:8080/",
          "height": 226
        },
        "id": "4EGkB6RQYjMd",
        "outputId": "a9ab8457-fc55-434b-c10a-47b0819af45c"
      },
      "execution_count": null,
      "outputs": [
        {
          "output_type": "execute_result",
          "data": {
            "text/plain": [
              "   age age_grouped age_binary famsize Pstatus sex  G1  G2  G3 G1_disc G2_disc  \\\n",
              "0   18       17-18        <19     GT3       A   F   0  11  11     0-5   11-15   \n",
              "1   17       17-18        <19     GT3       T   F   9  11  11    6-10   11-15   \n",
              "2   15       15-16        <19     LE3       T   F  12  13  12   11-15   11-15   \n",
              "3   15       15-16        <19     GT3       T   F  14  14  14   11-15   11-15   \n",
              "4   16       15-16        <19     GT3       T   F  11  13  13   11-15   11-15   \n",
              "\n",
              "  G3_disc  \n",
              "0   11-15  \n",
              "1   11-15  \n",
              "2   11-15  \n",
              "3   11-15  \n",
              "4   11-15  "
            ],
            "text/html": [
              "\n",
              "  <div id=\"df-c1b94bcb-a92a-49f1-9b0d-26fa5547e0cd\" class=\"colab-df-container\">\n",
              "    <div>\n",
              "<style scoped>\n",
              "    .dataframe tbody tr th:only-of-type {\n",
              "        vertical-align: middle;\n",
              "    }\n",
              "\n",
              "    .dataframe tbody tr th {\n",
              "        vertical-align: top;\n",
              "    }\n",
              "\n",
              "    .dataframe thead th {\n",
              "        text-align: right;\n",
              "    }\n",
              "</style>\n",
              "<table border=\"1\" class=\"dataframe\">\n",
              "  <thead>\n",
              "    <tr style=\"text-align: right;\">\n",
              "      <th></th>\n",
              "      <th>age</th>\n",
              "      <th>age_grouped</th>\n",
              "      <th>age_binary</th>\n",
              "      <th>famsize</th>\n",
              "      <th>Pstatus</th>\n",
              "      <th>sex</th>\n",
              "      <th>G1</th>\n",
              "      <th>G2</th>\n",
              "      <th>G3</th>\n",
              "      <th>G1_disc</th>\n",
              "      <th>G2_disc</th>\n",
              "      <th>G3_disc</th>\n",
              "    </tr>\n",
              "  </thead>\n",
              "  <tbody>\n",
              "    <tr>\n",
              "      <th>0</th>\n",
              "      <td>18</td>\n",
              "      <td>17-18</td>\n",
              "      <td>&lt;19</td>\n",
              "      <td>GT3</td>\n",
              "      <td>A</td>\n",
              "      <td>F</td>\n",
              "      <td>0</td>\n",
              "      <td>11</td>\n",
              "      <td>11</td>\n",
              "      <td>0-5</td>\n",
              "      <td>11-15</td>\n",
              "      <td>11-15</td>\n",
              "    </tr>\n",
              "    <tr>\n",
              "      <th>1</th>\n",
              "      <td>17</td>\n",
              "      <td>17-18</td>\n",
              "      <td>&lt;19</td>\n",
              "      <td>GT3</td>\n",
              "      <td>T</td>\n",
              "      <td>F</td>\n",
              "      <td>9</td>\n",
              "      <td>11</td>\n",
              "      <td>11</td>\n",
              "      <td>6-10</td>\n",
              "      <td>11-15</td>\n",
              "      <td>11-15</td>\n",
              "    </tr>\n",
              "    <tr>\n",
              "      <th>2</th>\n",
              "      <td>15</td>\n",
              "      <td>15-16</td>\n",
              "      <td>&lt;19</td>\n",
              "      <td>LE3</td>\n",
              "      <td>T</td>\n",
              "      <td>F</td>\n",
              "      <td>12</td>\n",
              "      <td>13</td>\n",
              "      <td>12</td>\n",
              "      <td>11-15</td>\n",
              "      <td>11-15</td>\n",
              "      <td>11-15</td>\n",
              "    </tr>\n",
              "    <tr>\n",
              "      <th>3</th>\n",
              "      <td>15</td>\n",
              "      <td>15-16</td>\n",
              "      <td>&lt;19</td>\n",
              "      <td>GT3</td>\n",
              "      <td>T</td>\n",
              "      <td>F</td>\n",
              "      <td>14</td>\n",
              "      <td>14</td>\n",
              "      <td>14</td>\n",
              "      <td>11-15</td>\n",
              "      <td>11-15</td>\n",
              "      <td>11-15</td>\n",
              "    </tr>\n",
              "    <tr>\n",
              "      <th>4</th>\n",
              "      <td>16</td>\n",
              "      <td>15-16</td>\n",
              "      <td>&lt;19</td>\n",
              "      <td>GT3</td>\n",
              "      <td>T</td>\n",
              "      <td>F</td>\n",
              "      <td>11</td>\n",
              "      <td>13</td>\n",
              "      <td>13</td>\n",
              "      <td>11-15</td>\n",
              "      <td>11-15</td>\n",
              "      <td>11-15</td>\n",
              "    </tr>\n",
              "  </tbody>\n",
              "</table>\n",
              "</div>\n",
              "    <div class=\"colab-df-buttons\">\n",
              "\n",
              "  <div class=\"colab-df-container\">\n",
              "    <button class=\"colab-df-convert\" onclick=\"convertToInteractive('df-c1b94bcb-a92a-49f1-9b0d-26fa5547e0cd')\"\n",
              "            title=\"Convert this dataframe to an interactive table.\"\n",
              "            style=\"display:none;\">\n",
              "\n",
              "  <svg xmlns=\"http://www.w3.org/2000/svg\" height=\"24px\" viewBox=\"0 -960 960 960\">\n",
              "    <path d=\"M120-120v-720h720v720H120Zm60-500h600v-160H180v160Zm220 220h160v-160H400v160Zm0 220h160v-160H400v160ZM180-400h160v-160H180v160Zm440 0h160v-160H620v160ZM180-180h160v-160H180v160Zm440 0h160v-160H620v160Z\"/>\n",
              "  </svg>\n",
              "    </button>\n",
              "\n",
              "  <style>\n",
              "    .colab-df-container {\n",
              "      display:flex;\n",
              "      gap: 12px;\n",
              "    }\n",
              "\n",
              "    .colab-df-convert {\n",
              "      background-color: #E8F0FE;\n",
              "      border: none;\n",
              "      border-radius: 50%;\n",
              "      cursor: pointer;\n",
              "      display: none;\n",
              "      fill: #1967D2;\n",
              "      height: 32px;\n",
              "      padding: 0 0 0 0;\n",
              "      width: 32px;\n",
              "    }\n",
              "\n",
              "    .colab-df-convert:hover {\n",
              "      background-color: #E2EBFA;\n",
              "      box-shadow: 0px 1px 2px rgba(60, 64, 67, 0.3), 0px 1px 3px 1px rgba(60, 64, 67, 0.15);\n",
              "      fill: #174EA6;\n",
              "    }\n",
              "\n",
              "    .colab-df-buttons div {\n",
              "      margin-bottom: 4px;\n",
              "    }\n",
              "\n",
              "    [theme=dark] .colab-df-convert {\n",
              "      background-color: #3B4455;\n",
              "      fill: #D2E3FC;\n",
              "    }\n",
              "\n",
              "    [theme=dark] .colab-df-convert:hover {\n",
              "      background-color: #434B5C;\n",
              "      box-shadow: 0px 1px 3px 1px rgba(0, 0, 0, 0.15);\n",
              "      filter: drop-shadow(0px 1px 2px rgba(0, 0, 0, 0.3));\n",
              "      fill: #FFFFFF;\n",
              "    }\n",
              "  </style>\n",
              "\n",
              "    <script>\n",
              "      const buttonEl =\n",
              "        document.querySelector('#df-c1b94bcb-a92a-49f1-9b0d-26fa5547e0cd button.colab-df-convert');\n",
              "      buttonEl.style.display =\n",
              "        google.colab.kernel.accessAllowed ? 'block' : 'none';\n",
              "\n",
              "      async function convertToInteractive(key) {\n",
              "        const element = document.querySelector('#df-c1b94bcb-a92a-49f1-9b0d-26fa5547e0cd');\n",
              "        const dataTable =\n",
              "          await google.colab.kernel.invokeFunction('convertToInteractive',\n",
              "                                                    [key], {});\n",
              "        if (!dataTable) return;\n",
              "\n",
              "        const docLinkHtml = 'Like what you see? Visit the ' +\n",
              "          '<a target=\"_blank\" href=https://colab.research.google.com/notebooks/data_table.ipynb>data table notebook</a>'\n",
              "          + ' to learn more about interactive tables.';\n",
              "        element.innerHTML = '';\n",
              "        dataTable['output_type'] = 'display_data';\n",
              "        await google.colab.output.renderOutput(dataTable, element);\n",
              "        const docLink = document.createElement('div');\n",
              "        docLink.innerHTML = docLinkHtml;\n",
              "        element.appendChild(docLink);\n",
              "      }\n",
              "    </script>\n",
              "  </div>\n",
              "\n",
              "\n",
              "<div id=\"df-c152add2-efea-4269-81ad-372e1e0b0278\">\n",
              "  <button class=\"colab-df-quickchart\" onclick=\"quickchart('df-c152add2-efea-4269-81ad-372e1e0b0278')\"\n",
              "            title=\"Suggest charts\"\n",
              "            style=\"display:none;\">\n",
              "\n",
              "<svg xmlns=\"http://www.w3.org/2000/svg\" height=\"24px\"viewBox=\"0 0 24 24\"\n",
              "     width=\"24px\">\n",
              "    <g>\n",
              "        <path d=\"M19 3H5c-1.1 0-2 .9-2 2v14c0 1.1.9 2 2 2h14c1.1 0 2-.9 2-2V5c0-1.1-.9-2-2-2zM9 17H7v-7h2v7zm4 0h-2V7h2v10zm4 0h-2v-4h2v4z\"/>\n",
              "    </g>\n",
              "</svg>\n",
              "  </button>\n",
              "\n",
              "<style>\n",
              "  .colab-df-quickchart {\n",
              "      --bg-color: #E8F0FE;\n",
              "      --fill-color: #1967D2;\n",
              "      --hover-bg-color: #E2EBFA;\n",
              "      --hover-fill-color: #174EA6;\n",
              "      --disabled-fill-color: #AAA;\n",
              "      --disabled-bg-color: #DDD;\n",
              "  }\n",
              "\n",
              "  [theme=dark] .colab-df-quickchart {\n",
              "      --bg-color: #3B4455;\n",
              "      --fill-color: #D2E3FC;\n",
              "      --hover-bg-color: #434B5C;\n",
              "      --hover-fill-color: #FFFFFF;\n",
              "      --disabled-bg-color: #3B4455;\n",
              "      --disabled-fill-color: #666;\n",
              "  }\n",
              "\n",
              "  .colab-df-quickchart {\n",
              "    background-color: var(--bg-color);\n",
              "    border: none;\n",
              "    border-radius: 50%;\n",
              "    cursor: pointer;\n",
              "    display: none;\n",
              "    fill: var(--fill-color);\n",
              "    height: 32px;\n",
              "    padding: 0;\n",
              "    width: 32px;\n",
              "  }\n",
              "\n",
              "  .colab-df-quickchart:hover {\n",
              "    background-color: var(--hover-bg-color);\n",
              "    box-shadow: 0 1px 2px rgba(60, 64, 67, 0.3), 0 1px 3px 1px rgba(60, 64, 67, 0.15);\n",
              "    fill: var(--button-hover-fill-color);\n",
              "  }\n",
              "\n",
              "  .colab-df-quickchart-complete:disabled,\n",
              "  .colab-df-quickchart-complete:disabled:hover {\n",
              "    background-color: var(--disabled-bg-color);\n",
              "    fill: var(--disabled-fill-color);\n",
              "    box-shadow: none;\n",
              "  }\n",
              "\n",
              "  .colab-df-spinner {\n",
              "    border: 2px solid var(--fill-color);\n",
              "    border-color: transparent;\n",
              "    border-bottom-color: var(--fill-color);\n",
              "    animation:\n",
              "      spin 1s steps(1) infinite;\n",
              "  }\n",
              "\n",
              "  @keyframes spin {\n",
              "    0% {\n",
              "      border-color: transparent;\n",
              "      border-bottom-color: var(--fill-color);\n",
              "      border-left-color: var(--fill-color);\n",
              "    }\n",
              "    20% {\n",
              "      border-color: transparent;\n",
              "      border-left-color: var(--fill-color);\n",
              "      border-top-color: var(--fill-color);\n",
              "    }\n",
              "    30% {\n",
              "      border-color: transparent;\n",
              "      border-left-color: var(--fill-color);\n",
              "      border-top-color: var(--fill-color);\n",
              "      border-right-color: var(--fill-color);\n",
              "    }\n",
              "    40% {\n",
              "      border-color: transparent;\n",
              "      border-right-color: var(--fill-color);\n",
              "      border-top-color: var(--fill-color);\n",
              "    }\n",
              "    60% {\n",
              "      border-color: transparent;\n",
              "      border-right-color: var(--fill-color);\n",
              "    }\n",
              "    80% {\n",
              "      border-color: transparent;\n",
              "      border-right-color: var(--fill-color);\n",
              "      border-bottom-color: var(--fill-color);\n",
              "    }\n",
              "    90% {\n",
              "      border-color: transparent;\n",
              "      border-bottom-color: var(--fill-color);\n",
              "    }\n",
              "  }\n",
              "</style>\n",
              "\n",
              "  <script>\n",
              "    async function quickchart(key) {\n",
              "      const quickchartButtonEl =\n",
              "        document.querySelector('#' + key + ' button');\n",
              "      quickchartButtonEl.disabled = true;  // To prevent multiple clicks.\n",
              "      quickchartButtonEl.classList.add('colab-df-spinner');\n",
              "      try {\n",
              "        const charts = await google.colab.kernel.invokeFunction(\n",
              "            'suggestCharts', [key], {});\n",
              "      } catch (error) {\n",
              "        console.error('Error during call to suggestCharts:', error);\n",
              "      }\n",
              "      quickchartButtonEl.classList.remove('colab-df-spinner');\n",
              "      quickchartButtonEl.classList.add('colab-df-quickchart-complete');\n",
              "    }\n",
              "    (() => {\n",
              "      let quickchartButtonEl =\n",
              "        document.querySelector('#df-c152add2-efea-4269-81ad-372e1e0b0278 button');\n",
              "      quickchartButtonEl.style.display =\n",
              "        google.colab.kernel.accessAllowed ? 'block' : 'none';\n",
              "    })();\n",
              "  </script>\n",
              "</div>\n",
              "    </div>\n",
              "  </div>\n"
            ]
          },
          "metadata": {},
          "execution_count": 40
        }
      ]
    },
    {
      "cell_type": "markdown",
      "source": [
        "#### Declaring Favorability Thresholds"
      ],
      "metadata": {
        "id": "HhLxwKbOKZbK"
      }
    },
    {
      "cell_type": "code",
      "source": [
        "# Implementing a favorability threshold for each dependent variable\n",
        "  # G1: Favorable = >=11, Unfavorable = <11\n",
        "  # G2: Favorable = >=11, Unfavorable = <11\n",
        "  # G3: Favorable = >=11, Unfavorable = <11\n",
        "step3_df['G1_favorable'] = df['G1_disc'].map({'0-5':0, '6-10':0, '11-15':1, '16-19':1})\n",
        "step3_df['G2_favorable'] = df['G2_disc'].map({'0-5':0, '6-10':0, '11-15':1, '16-19':1})\n",
        "step3_df['G3_favorable'] = df['G3_disc'].map({'0-5':0, '6-10':0, '11-15':1, '16-19':1})"
      ],
      "metadata": {
        "id": "FUUbtEZOmzeV"
      },
      "execution_count": null,
      "outputs": []
    },
    {
      "cell_type": "markdown",
      "source": [
        "#### Calculating Fairness Metrics for the Original Dataset"
      ],
      "metadata": {
        "id": "Tx2QSTIaNKyX"
      }
    },
    {
      "cell_type": "code",
      "source": [
        "# Binarizing categorical values to ensure data-wise compatability with the aif360 library\n",
        "step3_df_cast = step3_df.copy()\n",
        "step3_df_cast['age_binary'] = step3_df_cast['age_binary'].map({'>=19':0, '<19':1})\n",
        "step3_df_cast['famsize'] = step3_df_cast['famsize'].map({'GT3':0, 'LE3':1})\n",
        "step3_df_cast['Pstatus'] = step3_df_cast['Pstatus'].map({'A':0, 'T':1})\n",
        "step3_df_cast['sex'] = step3_df_cast['sex'].map({'F':0, 'M':1})\n",
        "\n",
        "# Creating a pandas dataframe/dictionaries to store the fairness metrics\n",
        "step3_2_results = pd.DataFrame(data={})\n",
        "step3_2_results['Protected Class'] = ['age','famsize','Pstatus','sex']\n",
        "step3_2_results['Privileged Group'] = ['<19', 'LE3', 'T', 'M']\n",
        "step3_2_results['Unprivileged Group'] = ['>=19', 'GT3', 'A', 'F']\n",
        "disparate_impacts = {'age': {'G1_favorable': 0, 'G2_favorable': 0, 'G3_favorable': 0}\n",
        "                     ,'famsize': {'G1_favorable': 0, 'G2_favorable': 0, 'G3_favorable': 0}\n",
        "                     ,'Pstatus': {'G1_favorable': 0, 'G2_favorable': 0, 'G3_favorable': 0}\n",
        "                     ,'sex': {'G1_favorable': 0, 'G2_favorable': 0, 'G3_favorable': 0}}\n",
        "statistical_parity_differences = {'age': {'G1_favorable': 0, 'G2_favorable': 0, 'G3_favorable': 0}\n",
        "                                  ,'famsize': {'G1_favorable': 0, 'G2_favorable': 0, 'G3_favorable': 0}\n",
        "                                  ,'Pstatus': {'G1_favorable': 0, 'G2_favorable': 0, 'G3_favorable': 0}\n",
        "                                  ,'sex': {'G1_favorable': 0, 'G2_favorable': 0, 'G3_favorable': 0}}\n",
        "\n",
        "# Creating a structure to store AIF360-processed datasets\n",
        "original_datasets = {'G1': '', 'G2': '', 'G3': ''}\n",
        "\n",
        "# Using AIF360 to calculate fairness metrics on the ORIGINAL dataset\n",
        "for dependent_variable in ['G1_favorable','G2_favorable','G3_favorable']:\n",
        "  step3_df_original = StandardDataset(step3_df_cast\n",
        "                                      ,label_name=dependent_variable\n",
        "                                      ,favorable_classes=[1]\n",
        "                                      ,protected_attribute_names=['age_binary','famsize','Pstatus','sex']\n",
        "                                      ,privileged_classes=[[1],[1],[1],[1]]\n",
        "                                      ,features_to_keep = ['age_binary','famsize','Pstatus','sex','G1_favorable','G2_favorable','G3_favorable']\n",
        "  )\n",
        "\n",
        "  # Storing the StandardDataset for use during later steps\n",
        "  original_datasets[dependent_variable[0:2]] = step3_df_original\n",
        "\n",
        "  # Calculating Disparate Impacts and storing the results\n",
        "  dis_for_table = []\n",
        "  for protected_class in ['age_binary','famsize','Pstatus','sex']:\n",
        "    disparate_impact = BinaryLabelDatasetMetric(step3_df_original, unprivileged_groups=[{protected_class:0}], privileged_groups=[{protected_class:1}]).disparate_impact()\n",
        "    disparate_impacts[protected_class.split('_')[0]][dependent_variable] = disparate_impact\n",
        "    dis_for_table.append(disparate_impact)\n",
        "  step3_2_results[dependent_variable[0:2] + ' DI'] = dis_for_table\n",
        "\n",
        "  # Calculating Statistical Parity Differences and storing the results\n",
        "  sdps_for_table = []\n",
        "  for protected_class in ['age_binary','famsize','Pstatus','sex']:\n",
        "    statistical_parity_difference = BinaryLabelDatasetMetric(step3_df_original, unprivileged_groups=[{protected_class:0}], privileged_groups=[{protected_class:1}]).statistical_parity_difference()\n",
        "    statistical_parity_differences[protected_class.split('_')[0]][dependent_variable] = statistical_parity_difference\n",
        "    sdps_for_table.append(statistical_parity_difference)\n",
        "  step3_2_results[dependent_variable[0:2] + ' SPD'] = sdps_for_table\n",
        "\n",
        "# Displaying the fairness metrics for the ORIGINAL dataset\n",
        "step3_2_results.head(5)"
      ],
      "metadata": {
        "colab": {
          "base_uri": "https://localhost:8080/",
          "height": 212
        },
        "id": "F9AUFnmkzvE3",
        "outputId": "4a5c8a2d-bb31-45c5-fd47-c63194971d52"
      },
      "execution_count": null,
      "outputs": [
        {
          "output_type": "execute_result",
          "data": {
            "text/plain": [
              "  Protected Class Privileged Group Unprivileged Group     G1 DI    G1 SPD  \\\n",
              "0             age              <19               >=19  0.422596 -0.366576   \n",
              "1         famsize              LE3                GT3  0.969803 -0.018873   \n",
              "2         Pstatus                T                  A  1.048374  0.029416   \n",
              "3             sex                M                  F  1.220228  0.119221   \n",
              "\n",
              "      G2 DI    G2 SPD     G3 DI    G3 SPD  \n",
              "0  0.510098 -0.327944  0.650707 -0.248756  \n",
              "1  0.950995 -0.032925  0.986531 -0.009471  \n",
              "2  1.046526  0.030009  1.005808  0.004042  \n",
              "3  1.179788  0.105440  1.141282  0.090824  "
            ],
            "text/html": [
              "\n",
              "  <div id=\"df-48be78e5-5310-4b52-81a0-37968b7a39bf\" class=\"colab-df-container\">\n",
              "    <div>\n",
              "<style scoped>\n",
              "    .dataframe tbody tr th:only-of-type {\n",
              "        vertical-align: middle;\n",
              "    }\n",
              "\n",
              "    .dataframe tbody tr th {\n",
              "        vertical-align: top;\n",
              "    }\n",
              "\n",
              "    .dataframe thead th {\n",
              "        text-align: right;\n",
              "    }\n",
              "</style>\n",
              "<table border=\"1\" class=\"dataframe\">\n",
              "  <thead>\n",
              "    <tr style=\"text-align: right;\">\n",
              "      <th></th>\n",
              "      <th>Protected Class</th>\n",
              "      <th>Privileged Group</th>\n",
              "      <th>Unprivileged Group</th>\n",
              "      <th>G1 DI</th>\n",
              "      <th>G1 SPD</th>\n",
              "      <th>G2 DI</th>\n",
              "      <th>G2 SPD</th>\n",
              "      <th>G3 DI</th>\n",
              "      <th>G3 SPD</th>\n",
              "    </tr>\n",
              "  </thead>\n",
              "  <tbody>\n",
              "    <tr>\n",
              "      <th>0</th>\n",
              "      <td>age</td>\n",
              "      <td>&lt;19</td>\n",
              "      <td>&gt;=19</td>\n",
              "      <td>0.422596</td>\n",
              "      <td>-0.366576</td>\n",
              "      <td>0.510098</td>\n",
              "      <td>-0.327944</td>\n",
              "      <td>0.650707</td>\n",
              "      <td>-0.248756</td>\n",
              "    </tr>\n",
              "    <tr>\n",
              "      <th>1</th>\n",
              "      <td>famsize</td>\n",
              "      <td>LE3</td>\n",
              "      <td>GT3</td>\n",
              "      <td>0.969803</td>\n",
              "      <td>-0.018873</td>\n",
              "      <td>0.950995</td>\n",
              "      <td>-0.032925</td>\n",
              "      <td>0.986531</td>\n",
              "      <td>-0.009471</td>\n",
              "    </tr>\n",
              "    <tr>\n",
              "      <th>2</th>\n",
              "      <td>Pstatus</td>\n",
              "      <td>T</td>\n",
              "      <td>A</td>\n",
              "      <td>1.048374</td>\n",
              "      <td>0.029416</td>\n",
              "      <td>1.046526</td>\n",
              "      <td>0.030009</td>\n",
              "      <td>1.005808</td>\n",
              "      <td>0.004042</td>\n",
              "    </tr>\n",
              "    <tr>\n",
              "      <th>3</th>\n",
              "      <td>sex</td>\n",
              "      <td>M</td>\n",
              "      <td>F</td>\n",
              "      <td>1.220228</td>\n",
              "      <td>0.119221</td>\n",
              "      <td>1.179788</td>\n",
              "      <td>0.105440</td>\n",
              "      <td>1.141282</td>\n",
              "      <td>0.090824</td>\n",
              "    </tr>\n",
              "  </tbody>\n",
              "</table>\n",
              "</div>\n",
              "    <div class=\"colab-df-buttons\">\n",
              "\n",
              "  <div class=\"colab-df-container\">\n",
              "    <button class=\"colab-df-convert\" onclick=\"convertToInteractive('df-48be78e5-5310-4b52-81a0-37968b7a39bf')\"\n",
              "            title=\"Convert this dataframe to an interactive table.\"\n",
              "            style=\"display:none;\">\n",
              "\n",
              "  <svg xmlns=\"http://www.w3.org/2000/svg\" height=\"24px\" viewBox=\"0 -960 960 960\">\n",
              "    <path d=\"M120-120v-720h720v720H120Zm60-500h600v-160H180v160Zm220 220h160v-160H400v160Zm0 220h160v-160H400v160ZM180-400h160v-160H180v160Zm440 0h160v-160H620v160ZM180-180h160v-160H180v160Zm440 0h160v-160H620v160Z\"/>\n",
              "  </svg>\n",
              "    </button>\n",
              "\n",
              "  <style>\n",
              "    .colab-df-container {\n",
              "      display:flex;\n",
              "      gap: 12px;\n",
              "    }\n",
              "\n",
              "    .colab-df-convert {\n",
              "      background-color: #E8F0FE;\n",
              "      border: none;\n",
              "      border-radius: 50%;\n",
              "      cursor: pointer;\n",
              "      display: none;\n",
              "      fill: #1967D2;\n",
              "      height: 32px;\n",
              "      padding: 0 0 0 0;\n",
              "      width: 32px;\n",
              "    }\n",
              "\n",
              "    .colab-df-convert:hover {\n",
              "      background-color: #E2EBFA;\n",
              "      box-shadow: 0px 1px 2px rgba(60, 64, 67, 0.3), 0px 1px 3px 1px rgba(60, 64, 67, 0.15);\n",
              "      fill: #174EA6;\n",
              "    }\n",
              "\n",
              "    .colab-df-buttons div {\n",
              "      margin-bottom: 4px;\n",
              "    }\n",
              "\n",
              "    [theme=dark] .colab-df-convert {\n",
              "      background-color: #3B4455;\n",
              "      fill: #D2E3FC;\n",
              "    }\n",
              "\n",
              "    [theme=dark] .colab-df-convert:hover {\n",
              "      background-color: #434B5C;\n",
              "      box-shadow: 0px 1px 3px 1px rgba(0, 0, 0, 0.15);\n",
              "      filter: drop-shadow(0px 1px 2px rgba(0, 0, 0, 0.3));\n",
              "      fill: #FFFFFF;\n",
              "    }\n",
              "  </style>\n",
              "\n",
              "    <script>\n",
              "      const buttonEl =\n",
              "        document.querySelector('#df-48be78e5-5310-4b52-81a0-37968b7a39bf button.colab-df-convert');\n",
              "      buttonEl.style.display =\n",
              "        google.colab.kernel.accessAllowed ? 'block' : 'none';\n",
              "\n",
              "      async function convertToInteractive(key) {\n",
              "        const element = document.querySelector('#df-48be78e5-5310-4b52-81a0-37968b7a39bf');\n",
              "        const dataTable =\n",
              "          await google.colab.kernel.invokeFunction('convertToInteractive',\n",
              "                                                    [key], {});\n",
              "        if (!dataTable) return;\n",
              "\n",
              "        const docLinkHtml = 'Like what you see? Visit the ' +\n",
              "          '<a target=\"_blank\" href=https://colab.research.google.com/notebooks/data_table.ipynb>data table notebook</a>'\n",
              "          + ' to learn more about interactive tables.';\n",
              "        element.innerHTML = '';\n",
              "        dataTable['output_type'] = 'display_data';\n",
              "        await google.colab.output.renderOutput(dataTable, element);\n",
              "        const docLink = document.createElement('div');\n",
              "        docLink.innerHTML = docLinkHtml;\n",
              "        element.appendChild(docLink);\n",
              "      }\n",
              "    </script>\n",
              "  </div>\n",
              "\n",
              "\n",
              "<div id=\"df-a27c3ac4-ee4f-4ff1-b9dd-81815ef14946\">\n",
              "  <button class=\"colab-df-quickchart\" onclick=\"quickchart('df-a27c3ac4-ee4f-4ff1-b9dd-81815ef14946')\"\n",
              "            title=\"Suggest charts\"\n",
              "            style=\"display:none;\">\n",
              "\n",
              "<svg xmlns=\"http://www.w3.org/2000/svg\" height=\"24px\"viewBox=\"0 0 24 24\"\n",
              "     width=\"24px\">\n",
              "    <g>\n",
              "        <path d=\"M19 3H5c-1.1 0-2 .9-2 2v14c0 1.1.9 2 2 2h14c1.1 0 2-.9 2-2V5c0-1.1-.9-2-2-2zM9 17H7v-7h2v7zm4 0h-2V7h2v10zm4 0h-2v-4h2v4z\"/>\n",
              "    </g>\n",
              "</svg>\n",
              "  </button>\n",
              "\n",
              "<style>\n",
              "  .colab-df-quickchart {\n",
              "      --bg-color: #E8F0FE;\n",
              "      --fill-color: #1967D2;\n",
              "      --hover-bg-color: #E2EBFA;\n",
              "      --hover-fill-color: #174EA6;\n",
              "      --disabled-fill-color: #AAA;\n",
              "      --disabled-bg-color: #DDD;\n",
              "  }\n",
              "\n",
              "  [theme=dark] .colab-df-quickchart {\n",
              "      --bg-color: #3B4455;\n",
              "      --fill-color: #D2E3FC;\n",
              "      --hover-bg-color: #434B5C;\n",
              "      --hover-fill-color: #FFFFFF;\n",
              "      --disabled-bg-color: #3B4455;\n",
              "      --disabled-fill-color: #666;\n",
              "  }\n",
              "\n",
              "  .colab-df-quickchart {\n",
              "    background-color: var(--bg-color);\n",
              "    border: none;\n",
              "    border-radius: 50%;\n",
              "    cursor: pointer;\n",
              "    display: none;\n",
              "    fill: var(--fill-color);\n",
              "    height: 32px;\n",
              "    padding: 0;\n",
              "    width: 32px;\n",
              "  }\n",
              "\n",
              "  .colab-df-quickchart:hover {\n",
              "    background-color: var(--hover-bg-color);\n",
              "    box-shadow: 0 1px 2px rgba(60, 64, 67, 0.3), 0 1px 3px 1px rgba(60, 64, 67, 0.15);\n",
              "    fill: var(--button-hover-fill-color);\n",
              "  }\n",
              "\n",
              "  .colab-df-quickchart-complete:disabled,\n",
              "  .colab-df-quickchart-complete:disabled:hover {\n",
              "    background-color: var(--disabled-bg-color);\n",
              "    fill: var(--disabled-fill-color);\n",
              "    box-shadow: none;\n",
              "  }\n",
              "\n",
              "  .colab-df-spinner {\n",
              "    border: 2px solid var(--fill-color);\n",
              "    border-color: transparent;\n",
              "    border-bottom-color: var(--fill-color);\n",
              "    animation:\n",
              "      spin 1s steps(1) infinite;\n",
              "  }\n",
              "\n",
              "  @keyframes spin {\n",
              "    0% {\n",
              "      border-color: transparent;\n",
              "      border-bottom-color: var(--fill-color);\n",
              "      border-left-color: var(--fill-color);\n",
              "    }\n",
              "    20% {\n",
              "      border-color: transparent;\n",
              "      border-left-color: var(--fill-color);\n",
              "      border-top-color: var(--fill-color);\n",
              "    }\n",
              "    30% {\n",
              "      border-color: transparent;\n",
              "      border-left-color: var(--fill-color);\n",
              "      border-top-color: var(--fill-color);\n",
              "      border-right-color: var(--fill-color);\n",
              "    }\n",
              "    40% {\n",
              "      border-color: transparent;\n",
              "      border-right-color: var(--fill-color);\n",
              "      border-top-color: var(--fill-color);\n",
              "    }\n",
              "    60% {\n",
              "      border-color: transparent;\n",
              "      border-right-color: var(--fill-color);\n",
              "    }\n",
              "    80% {\n",
              "      border-color: transparent;\n",
              "      border-right-color: var(--fill-color);\n",
              "      border-bottom-color: var(--fill-color);\n",
              "    }\n",
              "    90% {\n",
              "      border-color: transparent;\n",
              "      border-bottom-color: var(--fill-color);\n",
              "    }\n",
              "  }\n",
              "</style>\n",
              "\n",
              "  <script>\n",
              "    async function quickchart(key) {\n",
              "      const quickchartButtonEl =\n",
              "        document.querySelector('#' + key + ' button');\n",
              "      quickchartButtonEl.disabled = true;  // To prevent multiple clicks.\n",
              "      quickchartButtonEl.classList.add('colab-df-spinner');\n",
              "      try {\n",
              "        const charts = await google.colab.kernel.invokeFunction(\n",
              "            'suggestCharts', [key], {});\n",
              "      } catch (error) {\n",
              "        console.error('Error during call to suggestCharts:', error);\n",
              "      }\n",
              "      quickchartButtonEl.classList.remove('colab-df-spinner');\n",
              "      quickchartButtonEl.classList.add('colab-df-quickchart-complete');\n",
              "    }\n",
              "    (() => {\n",
              "      let quickchartButtonEl =\n",
              "        document.querySelector('#df-a27c3ac4-ee4f-4ff1-b9dd-81815ef14946 button');\n",
              "      quickchartButtonEl.style.display =\n",
              "        google.colab.kernel.accessAllowed ? 'block' : 'none';\n",
              "    })();\n",
              "  </script>\n",
              "</div>\n",
              "    </div>\n",
              "  </div>\n"
            ]
          },
          "metadata": {},
          "execution_count": 42
        }
      ]
    },
    {
      "cell_type": "markdown",
      "source": [
        "##3.3 & 3.4 Transforming the Original Dataset + Fairness Metrics - Transformed Dataset"
      ],
      "metadata": {
        "id": "jSn6Yhdw4Rpg"
      }
    },
    {
      "cell_type": "code",
      "source": [
        "# Creating a pandas dataframe/dictionaries to store the fairness metrics\n",
        "step3_4_results = pd.DataFrame(data={})\n",
        "step3_4_results['Protected Class'] = ['age','famsize','Pstatus','sex']\n",
        "step3_4_results['Privileged Group'] = ['<19', 'LE3', 'T', 'M']\n",
        "step3_4_results['Unprivileged Group'] = ['>=19', 'GT3', 'A', 'F']\n",
        "step3_4_results['Pre-Processing Algorithm'] = 'Reweighting'\n",
        "disparate_impacts_transformed = {'age': {'G1_favorable': 0, 'G2_favorable': 0, 'G3_favorable': 0}\n",
        "                     ,'famsize': {'G1_favorable': 0, 'G2_favorable': 0, 'G3_favorable': 0}\n",
        "                     ,'Pstatus': {'G1_favorable': 0, 'G2_favorable': 0, 'G3_favorable': 0}\n",
        "                     ,'sex': {'G1_favorable': 0, 'G2_favorable': 0, 'G3_favorable': 0}}\n",
        "statistical_parity_differences_transformed = {'age': {'G1_favorable': 0, 'G2_favorable': 0, 'G3_favorable': 0}\n",
        "                                  ,'famsize': {'G1_favorable': 0, 'G2_favorable': 0, 'G3_favorable': 0}\n",
        "                                  ,'Pstatus': {'G1_favorable': 0, 'G2_favorable': 0, 'G3_favorable': 0}\n",
        "                                  ,'sex': {'G1_favorable': 0, 'G2_favorable': 0, 'G3_favorable': 0}}\n",
        "\n",
        "# Creating a structure to store (Transformed) AIF360-processed datasets\n",
        "transformed_datasets = {'G1': '', 'G2': '', 'G3': ''}\n",
        "\n",
        "# Using AIF360 to transform the datasets + calculate fairness metrics on the TRANSFORMED dataset\n",
        "for dependent_variable in ['G1_favorable','G2_favorable','G3_favorable']:\n",
        "  step3_df_temp = StandardDataset(step3_df_cast\n",
        "                                  ,label_name=dependent_variable\n",
        "                                  ,favorable_classes=[1]\n",
        "                                  ,protected_attribute_names=['age_binary','famsize','Pstatus','sex']\n",
        "                                  ,privileged_classes=[[1],[1],[1],[1]]\n",
        "                                  ,features_to_keep = ['age_binary','famsize','Pstatus','sex','G1_favorable','G2_favorable','G3_favorable']\n",
        "  )\n",
        "\n",
        "  # Performing Reweighting\n",
        "  weights = Reweighing(unprivileged_groups=[{'age_binary':0,'famsize':0,'Pstatus':0,'sex':0}],privileged_groups=[{'age_binary':1,'famsize':1,'Pstatus':1,'sex':1}])\n",
        "  step3_df_transformed = weights.fit(step3_df_temp).transform(step3_df_temp)\n",
        "\n",
        "  # Storing the (Transformed) StandardDataset for use during later steps\n",
        "  transformed_datasets[dependent_variable[0:2]] = step3_df_transformed\n",
        "\n",
        "  # Calculating Disparate Impacts and storing the results\n",
        "  dis_for_table = []\n",
        "  for protected_class in ['age_binary','famsize','Pstatus','sex']:\n",
        "    disparate_impact = BinaryLabelDatasetMetric(step3_df_transformed, unprivileged_groups=[{protected_class:0}], privileged_groups=[{protected_class:1}]).disparate_impact()\n",
        "    disparate_impacts_transformed[protected_class.split('_')[0]][dependent_variable] = disparate_impact\n",
        "    dis_for_table.append(disparate_impact)\n",
        "  step3_4_results[dependent_variable[0:2] + ' DI'] = dis_for_table\n",
        "\n",
        "  # Calculating Statistical Parity Differences and storing the results\n",
        "  sdps_for_table = []\n",
        "  for protected_class in ['age_binary','famsize','Pstatus','sex']:\n",
        "    statistical_parity_difference = BinaryLabelDatasetMetric(step3_df_transformed, unprivileged_groups=[{protected_class:0}], privileged_groups=[{protected_class:1}]).statistical_parity_difference()\n",
        "    statistical_parity_differences_transformed[protected_class.split('_')[0]][dependent_variable] = statistical_parity_difference\n",
        "    sdps_for_table.append(statistical_parity_difference)\n",
        "  step3_4_results[dependent_variable[0:2] + ' SPD'] = sdps_for_table\n",
        "\n",
        "# Displaying the fairness metrics for the TRANSFORMED dataset\n",
        "step3_4_results.head(5)"
      ],
      "metadata": {
        "colab": {
          "base_uri": "https://localhost:8080/",
          "height": 333
        },
        "id": "TTwCiQbYz_tt",
        "outputId": "6e114151-844d-4254-a9d3-80309dbcdcf4"
      },
      "execution_count": null,
      "outputs": [
        {
          "output_type": "stream",
          "name": "stderr",
          "text": [
            "/usr/local/lib/python3.10/dist-packages/aif360/algorithms/preprocessing/reweighing.py:68: RuntimeWarning: divide by zero encountered in double_scalars\n",
            "  self.w_up_fav = n_fav*n_up / (n*n_up_fav)\n",
            "/usr/local/lib/python3.10/dist-packages/aif360/algorithms/preprocessing/reweighing.py:68: RuntimeWarning: divide by zero encountered in double_scalars\n",
            "  self.w_up_fav = n_fav*n_up / (n*n_up_fav)\n",
            "/usr/local/lib/python3.10/dist-packages/aif360/algorithms/preprocessing/reweighing.py:68: RuntimeWarning: divide by zero encountered in double_scalars\n",
            "  self.w_up_fav = n_fav*n_up / (n*n_up_fav)\n"
          ]
        },
        {
          "output_type": "execute_result",
          "data": {
            "text/plain": [
              "  Protected Class Privileged Group Unprivileged Group  \\\n",
              "0             age              <19               >=19   \n",
              "1         famsize              LE3                GT3   \n",
              "2         Pstatus                T                  A   \n",
              "3             sex                M                  F   \n",
              "\n",
              "  Pre-Processing Algorithm     G1 DI    G1 SPD     G2 DI    G2 SPD     G3 DI  \\\n",
              "0              Reweighting  0.419826 -0.376380  0.513183 -0.329128  0.656721   \n",
              "1              Reweighting  0.907351 -0.061974  0.923309 -0.053147  0.963427   \n",
              "2              Reweighting  1.031321  0.019510  1.043545  0.028397  1.005882   \n",
              "3              Reweighting  1.154577  0.088581  1.151835  0.091362  1.120760   \n",
              "\n",
              "     G3 SPD  \n",
              "0 -0.246420  \n",
              "1 -0.026372  \n",
              "2  0.004129  \n",
              "3  0.079197  "
            ],
            "text/html": [
              "\n",
              "  <div id=\"df-f744fd14-c807-43be-81d0-85e4239a5891\" class=\"colab-df-container\">\n",
              "    <div>\n",
              "<style scoped>\n",
              "    .dataframe tbody tr th:only-of-type {\n",
              "        vertical-align: middle;\n",
              "    }\n",
              "\n",
              "    .dataframe tbody tr th {\n",
              "        vertical-align: top;\n",
              "    }\n",
              "\n",
              "    .dataframe thead th {\n",
              "        text-align: right;\n",
              "    }\n",
              "</style>\n",
              "<table border=\"1\" class=\"dataframe\">\n",
              "  <thead>\n",
              "    <tr style=\"text-align: right;\">\n",
              "      <th></th>\n",
              "      <th>Protected Class</th>\n",
              "      <th>Privileged Group</th>\n",
              "      <th>Unprivileged Group</th>\n",
              "      <th>Pre-Processing Algorithm</th>\n",
              "      <th>G1 DI</th>\n",
              "      <th>G1 SPD</th>\n",
              "      <th>G2 DI</th>\n",
              "      <th>G2 SPD</th>\n",
              "      <th>G3 DI</th>\n",
              "      <th>G3 SPD</th>\n",
              "    </tr>\n",
              "  </thead>\n",
              "  <tbody>\n",
              "    <tr>\n",
              "      <th>0</th>\n",
              "      <td>age</td>\n",
              "      <td>&lt;19</td>\n",
              "      <td>&gt;=19</td>\n",
              "      <td>Reweighting</td>\n",
              "      <td>0.419826</td>\n",
              "      <td>-0.376380</td>\n",
              "      <td>0.513183</td>\n",
              "      <td>-0.329128</td>\n",
              "      <td>0.656721</td>\n",
              "      <td>-0.246420</td>\n",
              "    </tr>\n",
              "    <tr>\n",
              "      <th>1</th>\n",
              "      <td>famsize</td>\n",
              "      <td>LE3</td>\n",
              "      <td>GT3</td>\n",
              "      <td>Reweighting</td>\n",
              "      <td>0.907351</td>\n",
              "      <td>-0.061974</td>\n",
              "      <td>0.923309</td>\n",
              "      <td>-0.053147</td>\n",
              "      <td>0.963427</td>\n",
              "      <td>-0.026372</td>\n",
              "    </tr>\n",
              "    <tr>\n",
              "      <th>2</th>\n",
              "      <td>Pstatus</td>\n",
              "      <td>T</td>\n",
              "      <td>A</td>\n",
              "      <td>Reweighting</td>\n",
              "      <td>1.031321</td>\n",
              "      <td>0.019510</td>\n",
              "      <td>1.043545</td>\n",
              "      <td>0.028397</td>\n",
              "      <td>1.005882</td>\n",
              "      <td>0.004129</td>\n",
              "    </tr>\n",
              "    <tr>\n",
              "      <th>3</th>\n",
              "      <td>sex</td>\n",
              "      <td>M</td>\n",
              "      <td>F</td>\n",
              "      <td>Reweighting</td>\n",
              "      <td>1.154577</td>\n",
              "      <td>0.088581</td>\n",
              "      <td>1.151835</td>\n",
              "      <td>0.091362</td>\n",
              "      <td>1.120760</td>\n",
              "      <td>0.079197</td>\n",
              "    </tr>\n",
              "  </tbody>\n",
              "</table>\n",
              "</div>\n",
              "    <div class=\"colab-df-buttons\">\n",
              "\n",
              "  <div class=\"colab-df-container\">\n",
              "    <button class=\"colab-df-convert\" onclick=\"convertToInteractive('df-f744fd14-c807-43be-81d0-85e4239a5891')\"\n",
              "            title=\"Convert this dataframe to an interactive table.\"\n",
              "            style=\"display:none;\">\n",
              "\n",
              "  <svg xmlns=\"http://www.w3.org/2000/svg\" height=\"24px\" viewBox=\"0 -960 960 960\">\n",
              "    <path d=\"M120-120v-720h720v720H120Zm60-500h600v-160H180v160Zm220 220h160v-160H400v160Zm0 220h160v-160H400v160ZM180-400h160v-160H180v160Zm440 0h160v-160H620v160ZM180-180h160v-160H180v160Zm440 0h160v-160H620v160Z\"/>\n",
              "  </svg>\n",
              "    </button>\n",
              "\n",
              "  <style>\n",
              "    .colab-df-container {\n",
              "      display:flex;\n",
              "      gap: 12px;\n",
              "    }\n",
              "\n",
              "    .colab-df-convert {\n",
              "      background-color: #E8F0FE;\n",
              "      border: none;\n",
              "      border-radius: 50%;\n",
              "      cursor: pointer;\n",
              "      display: none;\n",
              "      fill: #1967D2;\n",
              "      height: 32px;\n",
              "      padding: 0 0 0 0;\n",
              "      width: 32px;\n",
              "    }\n",
              "\n",
              "    .colab-df-convert:hover {\n",
              "      background-color: #E2EBFA;\n",
              "      box-shadow: 0px 1px 2px rgba(60, 64, 67, 0.3), 0px 1px 3px 1px rgba(60, 64, 67, 0.15);\n",
              "      fill: #174EA6;\n",
              "    }\n",
              "\n",
              "    .colab-df-buttons div {\n",
              "      margin-bottom: 4px;\n",
              "    }\n",
              "\n",
              "    [theme=dark] .colab-df-convert {\n",
              "      background-color: #3B4455;\n",
              "      fill: #D2E3FC;\n",
              "    }\n",
              "\n",
              "    [theme=dark] .colab-df-convert:hover {\n",
              "      background-color: #434B5C;\n",
              "      box-shadow: 0px 1px 3px 1px rgba(0, 0, 0, 0.15);\n",
              "      filter: drop-shadow(0px 1px 2px rgba(0, 0, 0, 0.3));\n",
              "      fill: #FFFFFF;\n",
              "    }\n",
              "  </style>\n",
              "\n",
              "    <script>\n",
              "      const buttonEl =\n",
              "        document.querySelector('#df-f744fd14-c807-43be-81d0-85e4239a5891 button.colab-df-convert');\n",
              "      buttonEl.style.display =\n",
              "        google.colab.kernel.accessAllowed ? 'block' : 'none';\n",
              "\n",
              "      async function convertToInteractive(key) {\n",
              "        const element = document.querySelector('#df-f744fd14-c807-43be-81d0-85e4239a5891');\n",
              "        const dataTable =\n",
              "          await google.colab.kernel.invokeFunction('convertToInteractive',\n",
              "                                                    [key], {});\n",
              "        if (!dataTable) return;\n",
              "\n",
              "        const docLinkHtml = 'Like what you see? Visit the ' +\n",
              "          '<a target=\"_blank\" href=https://colab.research.google.com/notebooks/data_table.ipynb>data table notebook</a>'\n",
              "          + ' to learn more about interactive tables.';\n",
              "        element.innerHTML = '';\n",
              "        dataTable['output_type'] = 'display_data';\n",
              "        await google.colab.output.renderOutput(dataTable, element);\n",
              "        const docLink = document.createElement('div');\n",
              "        docLink.innerHTML = docLinkHtml;\n",
              "        element.appendChild(docLink);\n",
              "      }\n",
              "    </script>\n",
              "  </div>\n",
              "\n",
              "\n",
              "<div id=\"df-cad6ef48-02ab-4d02-9859-28fd898f5214\">\n",
              "  <button class=\"colab-df-quickchart\" onclick=\"quickchart('df-cad6ef48-02ab-4d02-9859-28fd898f5214')\"\n",
              "            title=\"Suggest charts\"\n",
              "            style=\"display:none;\">\n",
              "\n",
              "<svg xmlns=\"http://www.w3.org/2000/svg\" height=\"24px\"viewBox=\"0 0 24 24\"\n",
              "     width=\"24px\">\n",
              "    <g>\n",
              "        <path d=\"M19 3H5c-1.1 0-2 .9-2 2v14c0 1.1.9 2 2 2h14c1.1 0 2-.9 2-2V5c0-1.1-.9-2-2-2zM9 17H7v-7h2v7zm4 0h-2V7h2v10zm4 0h-2v-4h2v4z\"/>\n",
              "    </g>\n",
              "</svg>\n",
              "  </button>\n",
              "\n",
              "<style>\n",
              "  .colab-df-quickchart {\n",
              "      --bg-color: #E8F0FE;\n",
              "      --fill-color: #1967D2;\n",
              "      --hover-bg-color: #E2EBFA;\n",
              "      --hover-fill-color: #174EA6;\n",
              "      --disabled-fill-color: #AAA;\n",
              "      --disabled-bg-color: #DDD;\n",
              "  }\n",
              "\n",
              "  [theme=dark] .colab-df-quickchart {\n",
              "      --bg-color: #3B4455;\n",
              "      --fill-color: #D2E3FC;\n",
              "      --hover-bg-color: #434B5C;\n",
              "      --hover-fill-color: #FFFFFF;\n",
              "      --disabled-bg-color: #3B4455;\n",
              "      --disabled-fill-color: #666;\n",
              "  }\n",
              "\n",
              "  .colab-df-quickchart {\n",
              "    background-color: var(--bg-color);\n",
              "    border: none;\n",
              "    border-radius: 50%;\n",
              "    cursor: pointer;\n",
              "    display: none;\n",
              "    fill: var(--fill-color);\n",
              "    height: 32px;\n",
              "    padding: 0;\n",
              "    width: 32px;\n",
              "  }\n",
              "\n",
              "  .colab-df-quickchart:hover {\n",
              "    background-color: var(--hover-bg-color);\n",
              "    box-shadow: 0 1px 2px rgba(60, 64, 67, 0.3), 0 1px 3px 1px rgba(60, 64, 67, 0.15);\n",
              "    fill: var(--button-hover-fill-color);\n",
              "  }\n",
              "\n",
              "  .colab-df-quickchart-complete:disabled,\n",
              "  .colab-df-quickchart-complete:disabled:hover {\n",
              "    background-color: var(--disabled-bg-color);\n",
              "    fill: var(--disabled-fill-color);\n",
              "    box-shadow: none;\n",
              "  }\n",
              "\n",
              "  .colab-df-spinner {\n",
              "    border: 2px solid var(--fill-color);\n",
              "    border-color: transparent;\n",
              "    border-bottom-color: var(--fill-color);\n",
              "    animation:\n",
              "      spin 1s steps(1) infinite;\n",
              "  }\n",
              "\n",
              "  @keyframes spin {\n",
              "    0% {\n",
              "      border-color: transparent;\n",
              "      border-bottom-color: var(--fill-color);\n",
              "      border-left-color: var(--fill-color);\n",
              "    }\n",
              "    20% {\n",
              "      border-color: transparent;\n",
              "      border-left-color: var(--fill-color);\n",
              "      border-top-color: var(--fill-color);\n",
              "    }\n",
              "    30% {\n",
              "      border-color: transparent;\n",
              "      border-left-color: var(--fill-color);\n",
              "      border-top-color: var(--fill-color);\n",
              "      border-right-color: var(--fill-color);\n",
              "    }\n",
              "    40% {\n",
              "      border-color: transparent;\n",
              "      border-right-color: var(--fill-color);\n",
              "      border-top-color: var(--fill-color);\n",
              "    }\n",
              "    60% {\n",
              "      border-color: transparent;\n",
              "      border-right-color: var(--fill-color);\n",
              "    }\n",
              "    80% {\n",
              "      border-color: transparent;\n",
              "      border-right-color: var(--fill-color);\n",
              "      border-bottom-color: var(--fill-color);\n",
              "    }\n",
              "    90% {\n",
              "      border-color: transparent;\n",
              "      border-bottom-color: var(--fill-color);\n",
              "    }\n",
              "  }\n",
              "</style>\n",
              "\n",
              "  <script>\n",
              "    async function quickchart(key) {\n",
              "      const quickchartButtonEl =\n",
              "        document.querySelector('#' + key + ' button');\n",
              "      quickchartButtonEl.disabled = true;  // To prevent multiple clicks.\n",
              "      quickchartButtonEl.classList.add('colab-df-spinner');\n",
              "      try {\n",
              "        const charts = await google.colab.kernel.invokeFunction(\n",
              "            'suggestCharts', [key], {});\n",
              "      } catch (error) {\n",
              "        console.error('Error during call to suggestCharts:', error);\n",
              "      }\n",
              "      quickchartButtonEl.classList.remove('colab-df-spinner');\n",
              "      quickchartButtonEl.classList.add('colab-df-quickchart-complete');\n",
              "    }\n",
              "    (() => {\n",
              "      let quickchartButtonEl =\n",
              "        document.querySelector('#df-cad6ef48-02ab-4d02-9859-28fd898f5214 button');\n",
              "      quickchartButtonEl.style.display =\n",
              "        google.colab.kernel.accessAllowed ? 'block' : 'none';\n",
              "    })();\n",
              "  </script>\n",
              "</div>\n",
              "    </div>\n",
              "  </div>\n"
            ]
          },
          "metadata": {},
          "execution_count": 43
        }
      ]
    },
    {
      "cell_type": "markdown",
      "source": [
        "# **Step 4:**"
      ],
      "metadata": {
        "id": "IcSjGtemq2aa"
      }
    },
    {
      "cell_type": "markdown",
      "source": [
        "## 4.1 Training/Test Splits - Original Dataset"
      ],
      "metadata": {
        "id": "t8lodWeRtJdU"
      }
    },
    {
      "cell_type": "code",
      "source": [
        "# Splitting the ORIGINAL dataset into train/test sets\n",
        "original_train_test = {'G1': {'train': '', 'test': ''}, 'G2': {'train': '', 'test': ''}, 'G3': {'train': '', 'test': ''}}\n",
        "for dependent_variable in ['G1','G2','G3']:\n",
        "  train, test = original_datasets[dependent_variable].split(num_or_size_splits=2,shuffle=True,seed=101)\n",
        "  original_train_test[dependent_variable]['train'] = train\n",
        "  original_train_test[dependent_variable]['test'] = test"
      ],
      "metadata": {
        "id": "7VLJ4M6eq4hy"
      },
      "execution_count": null,
      "outputs": []
    },
    {
      "cell_type": "markdown",
      "source": [
        "## 4.2 Training/Test Splits - Transformed Dataset"
      ],
      "metadata": {
        "id": "cidRgz_BtKFn"
      }
    },
    {
      "cell_type": "code",
      "source": [
        "# Splitting the TRANSFORMED dataset into train/test sets\n",
        "transformed_train_test = {'G1': {'train': '', 'test': ''}, 'G2': {'train': '', 'test': ''}, 'G3': {'train': '', 'test': ''}}\n",
        "for dependent_variable in ['G1','G2','G3']:\n",
        "  train, test = transformed_datasets[dependent_variable].split(num_or_size_splits=2,shuffle=True,seed=101)\n",
        "  transformed_train_test[dependent_variable]['train'] = train\n",
        "  transformed_train_test[dependent_variable]['test'] = test"
      ],
      "metadata": {
        "id": "Y4RuIiBotIPH"
      },
      "execution_count": null,
      "outputs": []
    },
    {
      "cell_type": "markdown",
      "source": [
        "##4.3 Train a Classifier - Original Training Dataset"
      ],
      "metadata": {
        "id": "SBYNdcdd9cGA"
      }
    },
    {
      "cell_type": "code",
      "source": [
        "from sklearn.ensemble import RandomForestClassifier\n",
        "from sklearn.metrics import accuracy_score\n",
        "from sklearn.preprocessing import StandardScaler"
      ],
      "metadata": {
        "id": "5KTPqVAjJVeh"
      },
      "execution_count": null,
      "outputs": []
    },
    {
      "cell_type": "code",
      "source": [
        "x_train_original, x_test_original, y_train_original, y_test_original = train_test_split(original_train_test[\"G1\"][\"train\"].features, original_train_test[\"G1\"][\"train\"].labels.ravel(), test_size=0.2, random_state=45)\n",
        "\n",
        "classifier_original = RandomForestClassifier()\n",
        "classifier_original.fit(x_train_original, y_train_original)\n",
        "predictions = classifier_original.predict(x_test_original)\n",
        "\n",
        "from sklearn.metrics import accuracy_score\n",
        "\n",
        "accuracy = accuracy_score(y_test_original, predictions)\n",
        "print(\"Original Dataset Accuracy:\", accuracy)"
      ],
      "metadata": {
        "colab": {
          "base_uri": "https://localhost:8080/"
        },
        "id": "vTxw5S0WgVhA",
        "outputId": "8f2daa44-3f79-486a-c24a-7b3c39d7980d"
      },
      "execution_count": null,
      "outputs": [
        {
          "output_type": "stream",
          "name": "stdout",
          "text": [
            "Original Dataset Accuracy: 0.8461538461538461\n"
          ]
        }
      ]
    },
    {
      "cell_type": "markdown",
      "source": [
        "##4.4 Train a Classifier - Transformed Training Dataset"
      ],
      "metadata": {
        "id": "2IurXqai9fip"
      }
    },
    {
      "cell_type": "code",
      "source": [
        "x_train_transformed, x_test_transformed, y_train_transformed, y_test_transformed = train_test_split(transformed_train_test[\"G1\"][\"train\"].features, transformed_train_test[\"G1\"][\"train\"].labels.ravel(), test_size=0.2, random_state=45)\n",
        "\n",
        "classifier_original = RandomForestClassifier()\n",
        "classifier_original.fit(x_train_transformed, y_train_transformed)\n",
        "predictions = classifier_original.predict(x_test_transformed)\n",
        "\n",
        "from sklearn.metrics import accuracy_score\n",
        "\n",
        "accuracy = accuracy_score(y_test_transformed, predictions)\n",
        "print(\"Transformed Dataset Accuracy:\", accuracy)"
      ],
      "metadata": {
        "id": "3uvmFOGI-JZE",
        "colab": {
          "base_uri": "https://localhost:8080/"
        },
        "outputId": "0f833282-3488-4821-cdb0-12fe6de8176f"
      },
      "execution_count": null,
      "outputs": [
        {
          "output_type": "stream",
          "name": "stdout",
          "text": [
            "Transformed Dataset Accuracy: 0.8307692307692308\n"
          ]
        }
      ]
    },
    {
      "cell_type": "markdown",
      "source": [
        "##4.5 Classifier Fairness Metrics"
      ],
      "metadata": {
        "id": "yPAtRDFT9pOv"
      }
    },
    {
      "cell_type": "code",
      "source": [
        "# Binarizing categorical values to ensure data-wise compatability with the aif360 library\n",
        "step4_5_df_cast = y_test.copy()\n",
        "print(step4_5_df_cast)\n",
        "step4_5_df_cast['age_binary'] = step4_5_df_cast['age_binary'].map({'>=19':0, '<19':1})\n",
        "step4_5_df_cast['famsize'] = step4_5_df_cast['famsize'].map({'GT3':0, 'LE3':1})\n",
        "step4_5_df_cast['Pstatus'] = step4_5_df_cast['Pstatus'].map({'A':0, 'T':1})\n",
        "step4_5_df_cast['sex'] = step4_5_df_cast['sex'].map({'F':0, 'M':1})\n",
        "\n",
        "# Creating a pandas dataframe/dictionaries to store the fairness metrics\n",
        "step4_5_results = pd.DataFrame(data={})\n",
        "step4_5_results['Protected Class'] = ['age','famsize','Pstatus','sex']\n",
        "step4_5_results['Privileged Group'] = ['<19', 'LE3', 'T', 'M']\n",
        "step4_5_results['Unprivileged Group'] = ['>=19', 'GT3', 'A', 'F']\n",
        "disparate_impacts = {'age': {'G1_favorable': 0, 'G2_favorable': 0, 'G3_favorable': 0}\n",
        "                     ,'famsize': {'G1_favorable': 0, 'G2_favorable': 0, 'G3_favorable': 0}\n",
        "                     ,'Pstatus': {'G1_favorable': 0, 'G2_favorable': 0, 'G3_favorable': 0}\n",
        "                     ,'sex': {'G1_favorable': 0, 'G2_favorable': 0, 'G3_favorable': 0}}\n",
        "statistical_parity_differences = {'age': {'G1_favorable': 0, 'G2_favorable': 0, 'G3_favorable': 0}\n",
        "                                  ,'famsize': {'G1_favorable': 0, 'G2_favorable': 0, 'G3_favorable': 0}\n",
        "                                  ,'Pstatus': {'G1_favorable': 0, 'G2_favorable': 0, 'G3_favorable': 0}\n",
        "                                  ,'sex': {'G1_favorable': 0, 'G2_favorable': 0, 'G3_favorable': 0}}\n",
        "\n",
        "# Creating a structure to store AIF360-processed datasets\n",
        "original_datasets = {'G1': '', 'G2': '', 'G3': ''}\n",
        "\n",
        "# Using AIF360 to calculate fairness metrics on the ORIGINAL dataset\n",
        "for dependent_variable in ['G1_favorable','G2_favorable','G3_favorable']:\n",
        "  step4_5_original = StandardDataset(step4_5_df_cast\n",
        "                                      ,label_name=dependent_variable\n",
        "                                      ,favorable_classes=[1]\n",
        "                                      ,protected_attribute_names=['age_binary','famsize','Pstatus','sex']\n",
        "                                      ,privileged_classes=[[1],[1],[1],[1]]\n",
        "                                      ,features_to_keep = ['age_binary','famsize','Pstatus','sex','G1_favorable','G2_favorable','G3_favorable']\n",
        "  )\n",
        "\n",
        "  # Storing the StandardDataset for use during later steps\n",
        "  original_datasets[dependent_variable[0:2]] = step4_5_df_original\n",
        "\n",
        "  # Calculating Disparate Impacts and storing the results\n",
        "  dis_for_table = []\n",
        "  for protected_class in ['age_binary','famsize','Pstatus','sex']:\n",
        "    disparate_impact = BinaryLabelDatasetMetric(step3_df_original, unprivileged_groups=[{protected_class:0}], privileged_groups=[{protected_class:1}]).disparate_impact()\n",
        "    disparate_impacts[protected_class.split('_')[0]][dependent_variable] = disparate_impact\n",
        "    dis_for_table.append(disparate_impact)\n",
        "  step4_5_results[dependent_variable[0:2] + ' DI'] = dis_for_table\n",
        "\n",
        "  # Calculating Statistical Parity Differences and storing the results\n",
        "  sdps_for_table = []\n",
        "  for protected_class in ['age_binary','famsize','Pstatus','sex']:\n",
        "    statistical_parity_difference = BinaryLabelDatasetMetric(step3_df_original, unprivileged_groups=[{protected_class:0}], privileged_groups=[{protected_class:1}]).statistical_parity_difference()\n",
        "    statistical_parity_differences[protected_class.split('_')[0]][dependent_variable] = statistical_parity_difference\n",
        "    sdps_for_table.append(statistical_parity_difference)\n",
        "  step4_5_results[dependent_variable[0:2] + ' SPD'] = sdps_for_table\n",
        "\n",
        "# Displaying the fairness metrics for the ORIGINAL dataset\n",
        "step4_5_results.head(5)"
      ],
      "metadata": {
        "colab": {
          "base_uri": "https://localhost:8080/",
          "height": 349
        },
        "outputId": "ad54f725-4aeb-4eae-f201-7d8738ddcb6c",
        "id": "vsNFqDsJ0ASj"
      },
      "execution_count": null,
      "outputs": [
        {
          "output_type": "stream",
          "name": "stdout",
          "text": [
            "[0. 0. 1. 0. 0. 1. 0. 1. 1. 1. 0. 1. 1. 1. 1. 1. 1. 0. 1. 1. 0. 0. 1. 0.\n",
            " 1. 1. 1. 1. 1. 1. 1. 0. 1. 1. 1. 0. 1. 1. 1. 1. 1. 0. 1. 0. 0. 0. 1. 1.\n",
            " 0. 1. 0. 1. 1. 0. 1. 1. 1. 0. 1. 0. 0. 0. 1. 1. 1.]\n"
          ]
        },
        {
          "output_type": "error",
          "ename": "IndexError",
          "evalue": "ignored",
          "traceback": [
            "\u001b[0;31m---------------------------------------------------------------------------\u001b[0m",
            "\u001b[0;31mIndexError\u001b[0m                                Traceback (most recent call last)",
            "\u001b[0;32m<ipython-input-52-11979ec60827>\u001b[0m in \u001b[0;36m<cell line: 4>\u001b[0;34m()\u001b[0m\n\u001b[1;32m      2\u001b[0m \u001b[0mstep4_5_df_cast\u001b[0m \u001b[0;34m=\u001b[0m \u001b[0my_test\u001b[0m\u001b[0;34m.\u001b[0m\u001b[0mcopy\u001b[0m\u001b[0;34m(\u001b[0m\u001b[0;34m)\u001b[0m\u001b[0;34m\u001b[0m\u001b[0;34m\u001b[0m\u001b[0m\n\u001b[1;32m      3\u001b[0m \u001b[0mprint\u001b[0m\u001b[0;34m(\u001b[0m\u001b[0mstep4_5_df_cast\u001b[0m\u001b[0;34m)\u001b[0m\u001b[0;34m\u001b[0m\u001b[0;34m\u001b[0m\u001b[0m\n\u001b[0;32m----> 4\u001b[0;31m \u001b[0mstep4_5_df_cast\u001b[0m\u001b[0;34m[\u001b[0m\u001b[0;34m'age_binary'\u001b[0m\u001b[0;34m]\u001b[0m \u001b[0;34m=\u001b[0m \u001b[0mstep4_5_df_cast\u001b[0m\u001b[0;34m[\u001b[0m\u001b[0;34m'age_binary'\u001b[0m\u001b[0;34m]\u001b[0m\u001b[0;34m.\u001b[0m\u001b[0mmap\u001b[0m\u001b[0;34m(\u001b[0m\u001b[0;34m{\u001b[0m\u001b[0;34m'>=19'\u001b[0m\u001b[0;34m:\u001b[0m\u001b[0;36m0\u001b[0m\u001b[0;34m,\u001b[0m \u001b[0;34m'<19'\u001b[0m\u001b[0;34m:\u001b[0m\u001b[0;36m1\u001b[0m\u001b[0;34m}\u001b[0m\u001b[0;34m)\u001b[0m\u001b[0;34m\u001b[0m\u001b[0;34m\u001b[0m\u001b[0m\n\u001b[0m\u001b[1;32m      5\u001b[0m \u001b[0mstep4_5_df_cast\u001b[0m\u001b[0;34m[\u001b[0m\u001b[0;34m'famsize'\u001b[0m\u001b[0;34m]\u001b[0m \u001b[0;34m=\u001b[0m \u001b[0mstep4_5_df_cast\u001b[0m\u001b[0;34m[\u001b[0m\u001b[0;34m'famsize'\u001b[0m\u001b[0;34m]\u001b[0m\u001b[0;34m.\u001b[0m\u001b[0mmap\u001b[0m\u001b[0;34m(\u001b[0m\u001b[0;34m{\u001b[0m\u001b[0;34m'GT3'\u001b[0m\u001b[0;34m:\u001b[0m\u001b[0;36m0\u001b[0m\u001b[0;34m,\u001b[0m \u001b[0;34m'LE3'\u001b[0m\u001b[0;34m:\u001b[0m\u001b[0;36m1\u001b[0m\u001b[0;34m}\u001b[0m\u001b[0;34m)\u001b[0m\u001b[0;34m\u001b[0m\u001b[0;34m\u001b[0m\u001b[0m\n\u001b[1;32m      6\u001b[0m \u001b[0mstep4_5_df_cast\u001b[0m\u001b[0;34m[\u001b[0m\u001b[0;34m'Pstatus'\u001b[0m\u001b[0;34m]\u001b[0m \u001b[0;34m=\u001b[0m \u001b[0mstep4_5_df_cast\u001b[0m\u001b[0;34m[\u001b[0m\u001b[0;34m'Pstatus'\u001b[0m\u001b[0;34m]\u001b[0m\u001b[0;34m.\u001b[0m\u001b[0mmap\u001b[0m\u001b[0;34m(\u001b[0m\u001b[0;34m{\u001b[0m\u001b[0;34m'A'\u001b[0m\u001b[0;34m:\u001b[0m\u001b[0;36m0\u001b[0m\u001b[0;34m,\u001b[0m \u001b[0;34m'T'\u001b[0m\u001b[0;34m:\u001b[0m\u001b[0;36m1\u001b[0m\u001b[0;34m}\u001b[0m\u001b[0;34m)\u001b[0m\u001b[0;34m\u001b[0m\u001b[0;34m\u001b[0m\u001b[0m\n",
            "\u001b[0;31mIndexError\u001b[0m: only integers, slices (`:`), ellipsis (`...`), numpy.newaxis (`None`) and integer or boolean arrays are valid indices"
          ]
        }
      ]
    },
    {
      "cell_type": "markdown",
      "source": [
        "##4.6 Classifier Results Table"
      ],
      "metadata": {
        "id": "07IvJc-19rZ5"
      }
    },
    {
      "cell_type": "code",
      "source": [
        "#"
      ],
      "metadata": {
        "id": "Say7bJAA-KdV"
      },
      "execution_count": null,
      "outputs": []
    },
    {
      "cell_type": "markdown",
      "source": [],
      "metadata": {
        "id": "916LlJzz9i44"
      }
    },
    {
      "cell_type": "markdown",
      "source": [
        "# **Step 5:** Final Project Report"
      ],
      "metadata": {
        "id": "JOXa9T3Lq8Y1"
      }
    },
    {
      "cell_type": "markdown",
      "source": [],
      "metadata": {
        "id": "AGEwALcEya5W"
      }
    },
    {
      "cell_type": "code",
      "source": [
        "# Fairness Metrics Results Graph\n"
      ],
      "metadata": {
        "id": "-STBB1x3q9Qd"
      },
      "execution_count": null,
      "outputs": []
    },
    {
      "cell_type": "markdown",
      "source": [
        "##Explain which fairness metric (if any) is best and provide a justification for your answer"
      ],
      "metadata": {
        "id": "GgW7H7dQyoRR"
      }
    },
    {
      "cell_type": "markdown",
      "source": [],
      "metadata": {
        "id": "j_Vn46Jly5a2"
      }
    },
    {
      "cell_type": "markdown",
      "source": [
        "## Did any of these approaches seem to work to mitigate bias (or increase fairness)? Explain your reasoning. Did any group receive a positive advantage? Was any group disadvantaged by these approaches? What issues would arise if you used these methods to mitigate bias?"
      ],
      "metadata": {
        "id": "Rw00rtfKy0zT"
      }
    },
    {
      "cell_type": "markdown",
      "source": [],
      "metadata": {
        "id": "e6-fhxCuysFL"
      }
    },
    {
      "cell_type": "markdown",
      "source": [],
      "metadata": {
        "id": "aAQss_nGys2Q"
      }
    },
    {
      "cell_type": "markdown",
      "source": [],
      "metadata": {
        "id": "ZNEh6R0_yta5"
      }
    },
    {
      "cell_type": "markdown",
      "source": [],
      "metadata": {
        "id": "G89mJFq9ytMh"
      }
    }
  ]
}
